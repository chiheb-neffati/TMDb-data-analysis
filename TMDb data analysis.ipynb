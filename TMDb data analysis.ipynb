{
 "cells": [
  {
   "cell_type": "markdown",
   "id": "bb260aa6",
   "metadata": {},
   "source": [
    "# TMDb Data Analysis\n",
    "## Table of Contents\n",
    "<ul>\n",
    "<li><a href=\"#intro\">Introduction</a></li>\n",
    "<li><a href=\"#wrangling\">Data Wrangling</a></li>\n",
    "<li><a href=\"#eda\">Exploratory Data Analysis</a></li>\n",
    "<li><a href=\"#conclusions\">Conclusions</a></li>\n",
    "</ul>"
   ]
  },
  {
   "cell_type": "markdown",
   "id": "56b9355e",
   "metadata": {},
   "source": [
    "<a id='intro'></a>\n",
    "## Introduction\n",
    "In this project i am going to walk you through the data analysis process of the movie data-base(TMDb) dataset.<br>\n",
    "This data contains several interesting variables of movies (both old and new) like the cast and crew, the budget, revenue, genres etc... which you can learn more about in this <a href=\"https://www.kaggle.com/datasets/tmdb/tmdb-movie-metadata\">link</a>.<br>\n",
    "After observing the data for a while, some question come to mind:\n",
    "* Is making movies becoming a more lucrative business with each year ?\n",
    "* what feature have the most impact on the popularity of the movie ? is it the cast and crew size, the porduction company or the genre of the movie ?\n",
    "* how does the rating affect the popularity of a movie and it's commercial success\n",
    "* Which season releases the most movies?\n",
    "* Which genres has the most revenue/budget ratio ?"
   ]
  },
  {
   "cell_type": "code",
   "execution_count": 70,
   "id": "8dc8a781",
   "metadata": {},
   "outputs": [],
   "source": [
    "import pandas as pd\n",
    "import numpy as np\n",
    "import matplotlib.pyplot as plt\n",
    "import seaborn as sns\n",
    "import json\n",
    "sns.set_style('darkgrid')\n",
    "%matplotlib inline"
   ]
  },
  {
   "cell_type": "code",
   "execution_count": 71,
   "id": "9d92badf",
   "metadata": {},
   "outputs": [],
   "source": [
    "# These fuctions will be used to clean our data later on:\n",
    "\n",
    "## Get the first three elements of a JSON objects in a Pandas Serie \n",
    "def Get_first_elements(serie, field, number): \n",
    "    main_elements = []\n",
    "    for i in serie:\n",
    "        elements = \"\"\n",
    "        all_elements = json.loads(i)[0:number]\n",
    "        for j in all_elements:\n",
    "            elements += j[field] + \"|\" \n",
    "        main_elements.append(elements[:-1]) #removing the last \"|\"\n",
    "    return main_elements\n",
    "\n",
    "## Get the size of a JSON objects in a Pandas Serie \n",
    "def Get_size(serie):\n",
    "    sizes = []\n",
    "    for i in serie:\n",
    "        sizes.append(len(json.loads(i)))\n",
    "    return sizes"
   ]
  },
  {
   "cell_type": "markdown",
   "id": "f36499ca",
   "metadata": {},
   "source": [
    "<a id=\"wrangling\"></a>\n",
    "## Assessing and Wrangling Data\n",
    "### Loading Data\n",
    "The TMDb data is composed of two datasets, where one is dedicated to the movies stats while the othe is dedicated to the casts and crew of said movies"
   ]
  },
  {
   "cell_type": "code",
   "execution_count": 72,
   "id": "badf70b9",
   "metadata": {
    "scrolled": true
   },
   "outputs": [
    {
     "data": {
      "text/html": [
       "<div>\n",
       "<style scoped>\n",
       "    .dataframe tbody tr th:only-of-type {\n",
       "        vertical-align: middle;\n",
       "    }\n",
       "\n",
       "    .dataframe tbody tr th {\n",
       "        vertical-align: top;\n",
       "    }\n",
       "\n",
       "    .dataframe thead th {\n",
       "        text-align: right;\n",
       "    }\n",
       "</style>\n",
       "<table border=\"1\" class=\"dataframe\">\n",
       "  <thead>\n",
       "    <tr style=\"text-align: right;\">\n",
       "      <th></th>\n",
       "      <th>budget</th>\n",
       "      <th>genres</th>\n",
       "      <th>homepage</th>\n",
       "      <th>id</th>\n",
       "      <th>keywords</th>\n",
       "      <th>original_language</th>\n",
       "      <th>original_title</th>\n",
       "      <th>overview</th>\n",
       "      <th>popularity</th>\n",
       "      <th>production_companies</th>\n",
       "      <th>production_countries</th>\n",
       "      <th>release_date</th>\n",
       "      <th>revenue</th>\n",
       "      <th>runtime</th>\n",
       "      <th>spoken_languages</th>\n",
       "      <th>status</th>\n",
       "      <th>tagline</th>\n",
       "      <th>title</th>\n",
       "      <th>vote_average</th>\n",
       "      <th>vote_count</th>\n",
       "    </tr>\n",
       "  </thead>\n",
       "  <tbody>\n",
       "    <tr>\n",
       "      <th>0</th>\n",
       "      <td>237000000</td>\n",
       "      <td>[{\"id\": 28, \"name\": \"Action\"}, {\"id\": 12, \"nam...</td>\n",
       "      <td>http://www.avatarmovie.com/</td>\n",
       "      <td>19995</td>\n",
       "      <td>[{\"id\": 1463, \"name\": \"culture clash\"}, {\"id\":...</td>\n",
       "      <td>en</td>\n",
       "      <td>Avatar</td>\n",
       "      <td>In the 22nd century, a paraplegic Marine is di...</td>\n",
       "      <td>150.437577</td>\n",
       "      <td>[{\"name\": \"Ingenious Film Partners\", \"id\": 289...</td>\n",
       "      <td>[{\"iso_3166_1\": \"US\", \"name\": \"United States o...</td>\n",
       "      <td>2009-12-10</td>\n",
       "      <td>2787965087</td>\n",
       "      <td>162.0</td>\n",
       "      <td>[{\"iso_639_1\": \"en\", \"name\": \"English\"}, {\"iso...</td>\n",
       "      <td>Released</td>\n",
       "      <td>Enter the World of Pandora.</td>\n",
       "      <td>Avatar</td>\n",
       "      <td>7.2</td>\n",
       "      <td>11800</td>\n",
       "    </tr>\n",
       "    <tr>\n",
       "      <th>1</th>\n",
       "      <td>300000000</td>\n",
       "      <td>[{\"id\": 12, \"name\": \"Adventure\"}, {\"id\": 14, \"...</td>\n",
       "      <td>http://disney.go.com/disneypictures/pirates/</td>\n",
       "      <td>285</td>\n",
       "      <td>[{\"id\": 270, \"name\": \"ocean\"}, {\"id\": 726, \"na...</td>\n",
       "      <td>en</td>\n",
       "      <td>Pirates of the Caribbean: At World's End</td>\n",
       "      <td>Captain Barbossa, long believed to be dead, ha...</td>\n",
       "      <td>139.082615</td>\n",
       "      <td>[{\"name\": \"Walt Disney Pictures\", \"id\": 2}, {\"...</td>\n",
       "      <td>[{\"iso_3166_1\": \"US\", \"name\": \"United States o...</td>\n",
       "      <td>2007-05-19</td>\n",
       "      <td>961000000</td>\n",
       "      <td>169.0</td>\n",
       "      <td>[{\"iso_639_1\": \"en\", \"name\": \"English\"}]</td>\n",
       "      <td>Released</td>\n",
       "      <td>At the end of the world, the adventure begins.</td>\n",
       "      <td>Pirates of the Caribbean: At World's End</td>\n",
       "      <td>6.9</td>\n",
       "      <td>4500</td>\n",
       "    </tr>\n",
       "  </tbody>\n",
       "</table>\n",
       "</div>"
      ],
      "text/plain": [
       "      budget                                             genres  \\\n",
       "0  237000000  [{\"id\": 28, \"name\": \"Action\"}, {\"id\": 12, \"nam...   \n",
       "1  300000000  [{\"id\": 12, \"name\": \"Adventure\"}, {\"id\": 14, \"...   \n",
       "\n",
       "                                       homepage     id  \\\n",
       "0                   http://www.avatarmovie.com/  19995   \n",
       "1  http://disney.go.com/disneypictures/pirates/    285   \n",
       "\n",
       "                                            keywords original_language  \\\n",
       "0  [{\"id\": 1463, \"name\": \"culture clash\"}, {\"id\":...                en   \n",
       "1  [{\"id\": 270, \"name\": \"ocean\"}, {\"id\": 726, \"na...                en   \n",
       "\n",
       "                             original_title  \\\n",
       "0                                    Avatar   \n",
       "1  Pirates of the Caribbean: At World's End   \n",
       "\n",
       "                                            overview  popularity  \\\n",
       "0  In the 22nd century, a paraplegic Marine is di...  150.437577   \n",
       "1  Captain Barbossa, long believed to be dead, ha...  139.082615   \n",
       "\n",
       "                                production_companies  \\\n",
       "0  [{\"name\": \"Ingenious Film Partners\", \"id\": 289...   \n",
       "1  [{\"name\": \"Walt Disney Pictures\", \"id\": 2}, {\"...   \n",
       "\n",
       "                                production_countries release_date     revenue  \\\n",
       "0  [{\"iso_3166_1\": \"US\", \"name\": \"United States o...   2009-12-10  2787965087   \n",
       "1  [{\"iso_3166_1\": \"US\", \"name\": \"United States o...   2007-05-19   961000000   \n",
       "\n",
       "   runtime                                   spoken_languages    status  \\\n",
       "0    162.0  [{\"iso_639_1\": \"en\", \"name\": \"English\"}, {\"iso...  Released   \n",
       "1    169.0           [{\"iso_639_1\": \"en\", \"name\": \"English\"}]  Released   \n",
       "\n",
       "                                          tagline  \\\n",
       "0                     Enter the World of Pandora.   \n",
       "1  At the end of the world, the adventure begins.   \n",
       "\n",
       "                                      title  vote_average  vote_count  \n",
       "0                                    Avatar           7.2       11800  \n",
       "1  Pirates of the Caribbean: At World's End           6.9        4500  "
      ]
     },
     "execution_count": 72,
     "metadata": {},
     "output_type": "execute_result"
    }
   ],
   "source": [
    "movies = pd.read_csv(\"tmdb_5000_movies.csv\")\n",
    "movies.head(2) "
   ]
  },
  {
   "cell_type": "code",
   "execution_count": 73,
   "id": "27c5c455",
   "metadata": {
    "scrolled": true
   },
   "outputs": [
    {
     "data": {
      "text/html": [
       "<div>\n",
       "<style scoped>\n",
       "    .dataframe tbody tr th:only-of-type {\n",
       "        vertical-align: middle;\n",
       "    }\n",
       "\n",
       "    .dataframe tbody tr th {\n",
       "        vertical-align: top;\n",
       "    }\n",
       "\n",
       "    .dataframe thead th {\n",
       "        text-align: right;\n",
       "    }\n",
       "</style>\n",
       "<table border=\"1\" class=\"dataframe\">\n",
       "  <thead>\n",
       "    <tr style=\"text-align: right;\">\n",
       "      <th></th>\n",
       "      <th>movie_id</th>\n",
       "      <th>title</th>\n",
       "      <th>cast</th>\n",
       "      <th>crew</th>\n",
       "    </tr>\n",
       "  </thead>\n",
       "  <tbody>\n",
       "    <tr>\n",
       "      <th>0</th>\n",
       "      <td>19995</td>\n",
       "      <td>Avatar</td>\n",
       "      <td>[{\"cast_id\": 242, \"character\": \"Jake Sully\", \"...</td>\n",
       "      <td>[{\"credit_id\": \"52fe48009251416c750aca23\", \"de...</td>\n",
       "    </tr>\n",
       "    <tr>\n",
       "      <th>1</th>\n",
       "      <td>285</td>\n",
       "      <td>Pirates of the Caribbean: At World's End</td>\n",
       "      <td>[{\"cast_id\": 4, \"character\": \"Captain Jack Spa...</td>\n",
       "      <td>[{\"credit_id\": \"52fe4232c3a36847f800b579\", \"de...</td>\n",
       "    </tr>\n",
       "  </tbody>\n",
       "</table>\n",
       "</div>"
      ],
      "text/plain": [
       "   movie_id                                     title  \\\n",
       "0     19995                                    Avatar   \n",
       "1       285  Pirates of the Caribbean: At World's End   \n",
       "\n",
       "                                                cast  \\\n",
       "0  [{\"cast_id\": 242, \"character\": \"Jake Sully\", \"...   \n",
       "1  [{\"cast_id\": 4, \"character\": \"Captain Jack Spa...   \n",
       "\n",
       "                                                crew  \n",
       "0  [{\"credit_id\": \"52fe48009251416c750aca23\", \"de...  \n",
       "1  [{\"credit_id\": \"52fe4232c3a36847f800b579\", \"de...  "
      ]
     },
     "execution_count": 73,
     "metadata": {},
     "output_type": "execute_result"
    }
   ],
   "source": [
    "credits = pd.read_csv(\"tmdb_5000_credits.csv\")\n",
    "credits.head(2)"
   ]
  },
  {
   "cell_type": "markdown",
   "id": "ede2d4bf",
   "metadata": {},
   "source": [
    "### General Properties of the Movies Data"
   ]
  },
  {
   "cell_type": "code",
   "execution_count": 74,
   "id": "3af5a412",
   "metadata": {
    "scrolled": true
   },
   "outputs": [
    {
     "name": "stdout",
     "output_type": "stream",
     "text": [
      "Number of columns: 20\n",
      "Number of rows: 4803\n"
     ]
    }
   ],
   "source": [
    "# The dimensions of the Data \n",
    "print(f\"Number of columns: {movies.shape[1]}\")\n",
    "print(f\"Number of rows: {movies.shape[0]}\")"
   ]
  },
  {
   "cell_type": "code",
   "execution_count": 75,
   "id": "df8d846e",
   "metadata": {
    "scrolled": true
   },
   "outputs": [
    {
     "name": "stdout",
     "output_type": "stream",
     "text": [
      "<class 'pandas.core.frame.DataFrame'>\n",
      "RangeIndex: 4803 entries, 0 to 4802\n",
      "Data columns (total 20 columns):\n",
      " #   Column                Non-Null Count  Dtype  \n",
      "---  ------                --------------  -----  \n",
      " 0   budget                4803 non-null   int64  \n",
      " 1   genres                4803 non-null   object \n",
      " 2   homepage              1712 non-null   object \n",
      " 3   id                    4803 non-null   int64  \n",
      " 4   keywords              4803 non-null   object \n",
      " 5   original_language     4803 non-null   object \n",
      " 6   original_title        4803 non-null   object \n",
      " 7   overview              4800 non-null   object \n",
      " 8   popularity            4803 non-null   float64\n",
      " 9   production_companies  4803 non-null   object \n",
      " 10  production_countries  4803 non-null   object \n",
      " 11  release_date          4802 non-null   object \n",
      " 12  revenue               4803 non-null   int64  \n",
      " 13  runtime               4801 non-null   float64\n",
      " 14  spoken_languages      4803 non-null   object \n",
      " 15  status                4803 non-null   object \n",
      " 16  tagline               3959 non-null   object \n",
      " 17  title                 4803 non-null   object \n",
      " 18  vote_average          4803 non-null   float64\n",
      " 19  vote_count            4803 non-null   int64  \n",
      "dtypes: float64(3), int64(4), object(13)\n",
      "memory usage: 750.6+ KB\n"
     ]
    }
   ],
   "source": [
    "# Checking the data types of each feature of the movies data\n",
    "movies.info()"
   ]
  },
  {
   "cell_type": "code",
   "execution_count": 76,
   "id": "596aeb57",
   "metadata": {},
   "outputs": [
    {
     "data": {
      "text/plain": [
       "Index(['homepage', 'overview', 'release_date', 'runtime', 'tagline'], dtype='object')"
      ]
     },
     "execution_count": 76,
     "metadata": {},
     "output_type": "execute_result"
    }
   ],
   "source": [
    "# Features with missing values\n",
    "movies.columns[movies.isna().any()]"
   ]
  },
  {
   "cell_type": "code",
   "execution_count": 77,
   "id": "147c9d7f",
   "metadata": {
    "scrolled": true
   },
   "outputs": [
    {
     "data": {
      "text/plain": [
       "0"
      ]
     },
     "execution_count": 77,
     "metadata": {},
     "output_type": "execute_result"
    }
   ],
   "source": [
    "# Number of duplicate rows\n",
    "movies.duplicated().sum()"
   ]
  },
  {
   "cell_type": "markdown",
   "id": "9838696a",
   "metadata": {},
   "source": [
    "We can see when displaying the first five rows of our movies data that the \"genres\", \"keywords\", \"production_companies\", \"production_countries\", \"spoken_languages\" columns have the same format as a JSON object, this can help us greatly later when we want to work with these columns like the examples in the cell bellow:"
   ]
  },
  {
   "cell_type": "code",
   "execution_count": 78,
   "id": "b248cee6",
   "metadata": {
    "scrolled": true
   },
   "outputs": [
    {
     "data": {
      "text/plain": [
       "[{'id': 28, 'name': 'Action'},\n",
       " {'id': 12, 'name': 'Adventure'},\n",
       " {'id': 14, 'name': 'Fantasy'},\n",
       " {'id': 878, 'name': 'Science Fiction'}]"
      ]
     },
     "execution_count": 78,
     "metadata": {},
     "output_type": "execute_result"
    }
   ],
   "source": [
    "# Displaying all the genres of the first movie:\n",
    "json.loads(movies.genres[0])"
   ]
  },
  {
   "cell_type": "code",
   "execution_count": 79,
   "id": "d390e767",
   "metadata": {
    "scrolled": true
   },
   "outputs": [
    {
     "data": {
      "text/plain": [
       "'Action'"
      ]
     },
     "execution_count": 79,
     "metadata": {},
     "output_type": "execute_result"
    }
   ],
   "source": [
    "# Displaying one of the genres of the first movie:\n",
    "json.loads(movies.genres[0])[0][\"name\"]"
   ]
  },
  {
   "cell_type": "markdown",
   "id": "9baa9056",
   "metadata": {},
   "source": [
    "### General Properties of the Credits Data"
   ]
  },
  {
   "cell_type": "code",
   "execution_count": 80,
   "id": "6f08309f",
   "metadata": {},
   "outputs": [
    {
     "name": "stdout",
     "output_type": "stream",
     "text": [
      "Number of columns: 4\n",
      "Number of rows: 4803\n"
     ]
    }
   ],
   "source": [
    "# The dimensions of the Data \n",
    "print(f\"Number of columns: {credits.shape[1]}\")\n",
    "print(f\"Number of rows: {credits.shape[0]}\")"
   ]
  },
  {
   "cell_type": "code",
   "execution_count": 81,
   "id": "a29b54d3",
   "metadata": {},
   "outputs": [
    {
     "name": "stdout",
     "output_type": "stream",
     "text": [
      "<class 'pandas.core.frame.DataFrame'>\n",
      "RangeIndex: 4803 entries, 0 to 4802\n",
      "Data columns (total 4 columns):\n",
      " #   Column    Non-Null Count  Dtype \n",
      "---  ------    --------------  ----- \n",
      " 0   movie_id  4803 non-null   int64 \n",
      " 1   title     4803 non-null   object\n",
      " 2   cast      4803 non-null   object\n",
      " 3   crew      4803 non-null   object\n",
      "dtypes: int64(1), object(3)\n",
      "memory usage: 150.2+ KB\n"
     ]
    }
   ],
   "source": [
    "# Checking the data types of each feature of the credits data\n",
    "credits.info()"
   ]
  },
  {
   "cell_type": "code",
   "execution_count": 82,
   "id": "c1f9c6a3",
   "metadata": {
    "scrolled": true
   },
   "outputs": [
    {
     "data": {
      "text/plain": [
       "Index([], dtype='object')"
      ]
     },
     "execution_count": 82,
     "metadata": {},
     "output_type": "execute_result"
    }
   ],
   "source": [
    "# Features with missing values\n",
    "credits.columns[credits.isna().any()]"
   ]
  },
  {
   "cell_type": "code",
   "execution_count": 83,
   "id": "0c652feb",
   "metadata": {
    "scrolled": true
   },
   "outputs": [
    {
     "data": {
      "text/plain": [
       "0"
      ]
     },
     "execution_count": 83,
     "metadata": {},
     "output_type": "execute_result"
    }
   ],
   "source": [
    "# Number of duplicate rows\n",
    "credits.duplicated().sum()"
   ]
  },
  {
   "cell_type": "markdown",
   "id": "9573e04b",
   "metadata": {},
   "source": [
    "Like in the movies data, the \"cast\" and \"crew\" columns are also in the form of a JSON objects array."
   ]
  },
  {
   "cell_type": "code",
   "execution_count": 84,
   "id": "5324e7bf",
   "metadata": {
    "scrolled": true
   },
   "outputs": [
    {
     "data": {
      "text/plain": [
       "[{'cast_id': 242,\n",
       "  'character': 'Jake Sully',\n",
       "  'credit_id': '5602a8a7c3a3685532001c9a',\n",
       "  'gender': 2,\n",
       "  'id': 65731,\n",
       "  'name': 'Sam Worthington',\n",
       "  'order': 0},\n",
       " {'cast_id': 3,\n",
       "  'character': 'Neytiri',\n",
       "  'credit_id': '52fe48009251416c750ac9cb',\n",
       "  'gender': 1,\n",
       "  'id': 8691,\n",
       "  'name': 'Zoe Saldana',\n",
       "  'order': 1},\n",
       " {'cast_id': 25,\n",
       "  'character': 'Dr. Grace Augustine',\n",
       "  'credit_id': '52fe48009251416c750aca39',\n",
       "  'gender': 1,\n",
       "  'id': 10205,\n",
       "  'name': 'Sigourney Weaver',\n",
       "  'order': 2}]"
      ]
     },
     "execution_count": 84,
     "metadata": {},
     "output_type": "execute_result"
    }
   ],
   "source": [
    "# Displaying the first 3 actors of the first movie:\n",
    "json.loads(credits.cast[0])[0:3]"
   ]
  },
  {
   "cell_type": "code",
   "execution_count": 85,
   "id": "e9bf484a",
   "metadata": {
    "scrolled": true
   },
   "outputs": [
    {
     "data": {
      "text/plain": [
       "[{'credit_id': '52fe48009251416c750aca23',\n",
       "  'department': 'Editing',\n",
       "  'gender': 0,\n",
       "  'id': 1721,\n",
       "  'job': 'Editor',\n",
       "  'name': 'Stephen E. Rivkin'},\n",
       " {'credit_id': '539c47ecc3a36810e3001f87',\n",
       "  'department': 'Art',\n",
       "  'gender': 2,\n",
       "  'id': 496,\n",
       "  'job': 'Production Design',\n",
       "  'name': 'Rick Carter'},\n",
       " {'credit_id': '54491c89c3a3680fb4001cf7',\n",
       "  'department': 'Sound',\n",
       "  'gender': 0,\n",
       "  'id': 900,\n",
       "  'job': 'Sound Designer',\n",
       "  'name': 'Christopher Boyes'}]"
      ]
     },
     "execution_count": 85,
     "metadata": {},
     "output_type": "execute_result"
    }
   ],
   "source": [
    "# Displaying the first 3 crew members of the first movie:\n",
    "json.loads(credits.crew[0])[0:3]"
   ]
  },
  {
   "cell_type": "markdown",
   "id": "123e04c2",
   "metadata": {},
   "source": [
    "### Dropping extraneous columns \n",
    "When it comes to the data types of each feature, it appears that there is no need for correction as they are already adequate.<br>\n",
    "What we can do though, is get rid of some of the columns in the movies dataset like the \"homepage\", \"keywords\", \"overview\", \"original_title\", \"title\" and \"tagline\" columns as they are specific to the movie they belong to and won't help us in answering our questions anyway."
   ]
  },
  {
   "cell_type": "code",
   "execution_count": 86,
   "id": "d990a83f",
   "metadata": {
    "scrolled": false
   },
   "outputs": [
    {
     "data": {
      "text/html": [
       "<div>\n",
       "<style scoped>\n",
       "    .dataframe tbody tr th:only-of-type {\n",
       "        vertical-align: middle;\n",
       "    }\n",
       "\n",
       "    .dataframe tbody tr th {\n",
       "        vertical-align: top;\n",
       "    }\n",
       "\n",
       "    .dataframe thead th {\n",
       "        text-align: right;\n",
       "    }\n",
       "</style>\n",
       "<table border=\"1\" class=\"dataframe\">\n",
       "  <thead>\n",
       "    <tr style=\"text-align: right;\">\n",
       "      <th></th>\n",
       "      <th>budget</th>\n",
       "      <th>genres</th>\n",
       "      <th>id</th>\n",
       "      <th>original_language</th>\n",
       "      <th>popularity</th>\n",
       "      <th>production_companies</th>\n",
       "      <th>production_countries</th>\n",
       "      <th>release_date</th>\n",
       "      <th>revenue</th>\n",
       "      <th>runtime</th>\n",
       "      <th>status</th>\n",
       "      <th>vote_average</th>\n",
       "      <th>vote_count</th>\n",
       "    </tr>\n",
       "  </thead>\n",
       "  <tbody>\n",
       "    <tr>\n",
       "      <th>0</th>\n",
       "      <td>237000000</td>\n",
       "      <td>[{\"id\": 28, \"name\": \"Action\"}, {\"id\": 12, \"nam...</td>\n",
       "      <td>19995</td>\n",
       "      <td>en</td>\n",
       "      <td>150.437577</td>\n",
       "      <td>[{\"name\": \"Ingenious Film Partners\", \"id\": 289...</td>\n",
       "      <td>[{\"iso_3166_1\": \"US\", \"name\": \"United States o...</td>\n",
       "      <td>2009-12-10</td>\n",
       "      <td>2787965087</td>\n",
       "      <td>162.0</td>\n",
       "      <td>Released</td>\n",
       "      <td>7.2</td>\n",
       "      <td>11800</td>\n",
       "    </tr>\n",
       "    <tr>\n",
       "      <th>1</th>\n",
       "      <td>300000000</td>\n",
       "      <td>[{\"id\": 12, \"name\": \"Adventure\"}, {\"id\": 14, \"...</td>\n",
       "      <td>285</td>\n",
       "      <td>en</td>\n",
       "      <td>139.082615</td>\n",
       "      <td>[{\"name\": \"Walt Disney Pictures\", \"id\": 2}, {\"...</td>\n",
       "      <td>[{\"iso_3166_1\": \"US\", \"name\": \"United States o...</td>\n",
       "      <td>2007-05-19</td>\n",
       "      <td>961000000</td>\n",
       "      <td>169.0</td>\n",
       "      <td>Released</td>\n",
       "      <td>6.9</td>\n",
       "      <td>4500</td>\n",
       "    </tr>\n",
       "  </tbody>\n",
       "</table>\n",
       "</div>"
      ],
      "text/plain": [
       "      budget                                             genres     id  \\\n",
       "0  237000000  [{\"id\": 28, \"name\": \"Action\"}, {\"id\": 12, \"nam...  19995   \n",
       "1  300000000  [{\"id\": 12, \"name\": \"Adventure\"}, {\"id\": 14, \"...    285   \n",
       "\n",
       "  original_language  popularity  \\\n",
       "0                en  150.437577   \n",
       "1                en  139.082615   \n",
       "\n",
       "                                production_companies  \\\n",
       "0  [{\"name\": \"Ingenious Film Partners\", \"id\": 289...   \n",
       "1  [{\"name\": \"Walt Disney Pictures\", \"id\": 2}, {\"...   \n",
       "\n",
       "                                production_countries release_date     revenue  \\\n",
       "0  [{\"iso_3166_1\": \"US\", \"name\": \"United States o...   2009-12-10  2787965087   \n",
       "1  [{\"iso_3166_1\": \"US\", \"name\": \"United States o...   2007-05-19   961000000   \n",
       "\n",
       "   runtime    status  vote_average  vote_count  \n",
       "0    162.0  Released           7.2       11800  \n",
       "1    169.0  Released           6.9        4500  "
      ]
     },
     "execution_count": 86,
     "metadata": {},
     "output_type": "execute_result"
    }
   ],
   "source": [
    "movies.drop([\"homepage\", \"keywords\", \"overview\", \"original_title\", \"title\", \"tagline\", \"spoken_languages\"], \n",
    "            inplace = True, axis = 1)\n",
    "movies.head(2)"
   ]
  },
  {
   "cell_type": "markdown",
   "id": "a2ba8411",
   "metadata": {},
   "source": [
    "We saw from the general properties of the two dataframes, there is a possibility to fuse the two datasets together as they have the same number of entries which means that most likely, it is possible to join them together."
   ]
  },
  {
   "cell_type": "code",
   "execution_count": 87,
   "id": "a340ba4f",
   "metadata": {
    "scrolled": true
   },
   "outputs": [
    {
     "data": {
      "text/html": [
       "<div>\n",
       "<style scoped>\n",
       "    .dataframe tbody tr th:only-of-type {\n",
       "        vertical-align: middle;\n",
       "    }\n",
       "\n",
       "    .dataframe tbody tr th {\n",
       "        vertical-align: top;\n",
       "    }\n",
       "\n",
       "    .dataframe thead th {\n",
       "        text-align: right;\n",
       "    }\n",
       "</style>\n",
       "<table border=\"1\" class=\"dataframe\">\n",
       "  <thead>\n",
       "    <tr style=\"text-align: right;\">\n",
       "      <th></th>\n",
       "      <th>0</th>\n",
       "    </tr>\n",
       "  </thead>\n",
       "  <tbody>\n",
       "    <tr>\n",
       "      <th>movie_id</th>\n",
       "      <td>19995</td>\n",
       "    </tr>\n",
       "    <tr>\n",
       "      <th>cast</th>\n",
       "      <td>[{\"cast_id\": 242, \"character\": \"Jake Sully\", \"...</td>\n",
       "    </tr>\n",
       "    <tr>\n",
       "      <th>crew</th>\n",
       "      <td>[{\"credit_id\": \"52fe48009251416c750aca23\", \"de...</td>\n",
       "    </tr>\n",
       "  </tbody>\n",
       "</table>\n",
       "</div>"
      ],
      "text/plain": [
       "                                                          0\n",
       "movie_id                                              19995\n",
       "cast      [{\"cast_id\": 242, \"character\": \"Jake Sully\", \"...\n",
       "crew      [{\"credit_id\": \"52fe48009251416c750aca23\", \"de..."
      ]
     },
     "execution_count": 87,
     "metadata": {},
     "output_type": "execute_result"
    }
   ],
   "source": [
    "credits.drop([\"title\"], inplace = True, axis = 1)\n",
    "pd.DataFrame(credits.iloc[0])"
   ]
  },
  {
   "cell_type": "markdown",
   "id": "e3eec669",
   "metadata": {},
   "source": [
    "### Merging the two datasets\n",
    "Merging the two datasets will help us tremendously as it will make it easier to call features and especially easier if we want to make any further changes on the data in general "
   ]
  },
  {
   "cell_type": "code",
   "execution_count": 88,
   "id": "3879db25",
   "metadata": {
    "scrolled": true
   },
   "outputs": [
    {
     "data": {
      "text/html": [
       "<div>\n",
       "<style scoped>\n",
       "    .dataframe tbody tr th:only-of-type {\n",
       "        vertical-align: middle;\n",
       "    }\n",
       "\n",
       "    .dataframe tbody tr th {\n",
       "        vertical-align: top;\n",
       "    }\n",
       "\n",
       "    .dataframe thead th {\n",
       "        text-align: right;\n",
       "    }\n",
       "</style>\n",
       "<table border=\"1\" class=\"dataframe\">\n",
       "  <thead>\n",
       "    <tr style=\"text-align: right;\">\n",
       "      <th></th>\n",
       "      <th>id</th>\n",
       "      <th>cast</th>\n",
       "      <th>crew</th>\n",
       "    </tr>\n",
       "  </thead>\n",
       "  <tbody>\n",
       "    <tr>\n",
       "      <th>0</th>\n",
       "      <td>19995</td>\n",
       "      <td>[{\"cast_id\": 242, \"character\": \"Jake Sully\", \"...</td>\n",
       "      <td>[{\"credit_id\": \"52fe48009251416c750aca23\", \"de...</td>\n",
       "    </tr>\n",
       "    <tr>\n",
       "      <th>1</th>\n",
       "      <td>285</td>\n",
       "      <td>[{\"cast_id\": 4, \"character\": \"Captain Jack Spa...</td>\n",
       "      <td>[{\"credit_id\": \"52fe4232c3a36847f800b579\", \"de...</td>\n",
       "    </tr>\n",
       "    <tr>\n",
       "      <th>2</th>\n",
       "      <td>206647</td>\n",
       "      <td>[{\"cast_id\": 1, \"character\": \"James Bond\", \"cr...</td>\n",
       "      <td>[{\"credit_id\": \"54805967c3a36829b5002c41\", \"de...</td>\n",
       "    </tr>\n",
       "    <tr>\n",
       "      <th>3</th>\n",
       "      <td>49026</td>\n",
       "      <td>[{\"cast_id\": 2, \"character\": \"Bruce Wayne / Ba...</td>\n",
       "      <td>[{\"credit_id\": \"52fe4781c3a36847f81398c3\", \"de...</td>\n",
       "    </tr>\n",
       "    <tr>\n",
       "      <th>4</th>\n",
       "      <td>49529</td>\n",
       "      <td>[{\"cast_id\": 5, \"character\": \"John Carter\", \"c...</td>\n",
       "      <td>[{\"credit_id\": \"52fe479ac3a36847f813eaa3\", \"de...</td>\n",
       "    </tr>\n",
       "  </tbody>\n",
       "</table>\n",
       "</div>"
      ],
      "text/plain": [
       "       id                                               cast  \\\n",
       "0   19995  [{\"cast_id\": 242, \"character\": \"Jake Sully\", \"...   \n",
       "1     285  [{\"cast_id\": 4, \"character\": \"Captain Jack Spa...   \n",
       "2  206647  [{\"cast_id\": 1, \"character\": \"James Bond\", \"cr...   \n",
       "3   49026  [{\"cast_id\": 2, \"character\": \"Bruce Wayne / Ba...   \n",
       "4   49529  [{\"cast_id\": 5, \"character\": \"John Carter\", \"c...   \n",
       "\n",
       "                                                crew  \n",
       "0  [{\"credit_id\": \"52fe48009251416c750aca23\", \"de...  \n",
       "1  [{\"credit_id\": \"52fe4232c3a36847f800b579\", \"de...  \n",
       "2  [{\"credit_id\": \"54805967c3a36829b5002c41\", \"de...  \n",
       "3  [{\"credit_id\": \"52fe4781c3a36847f81398c3\", \"de...  \n",
       "4  [{\"credit_id\": \"52fe479ac3a36847f813eaa3\", \"de...  "
      ]
     },
     "execution_count": 88,
     "metadata": {},
     "output_type": "execute_result"
    }
   ],
   "source": [
    "credits.rename(columns = {\"movie_id\":\"id\"}, inplace = True)\n",
    "credits.head()"
   ]
  },
  {
   "cell_type": "code",
   "execution_count": 89,
   "id": "f7e45c15",
   "metadata": {
    "scrolled": true
   },
   "outputs": [
    {
     "data": {
      "text/html": [
       "<div>\n",
       "<style scoped>\n",
       "    .dataframe tbody tr th:only-of-type {\n",
       "        vertical-align: middle;\n",
       "    }\n",
       "\n",
       "    .dataframe tbody tr th {\n",
       "        vertical-align: top;\n",
       "    }\n",
       "\n",
       "    .dataframe thead th {\n",
       "        text-align: right;\n",
       "    }\n",
       "</style>\n",
       "<table border=\"1\" class=\"dataframe\">\n",
       "  <thead>\n",
       "    <tr style=\"text-align: right;\">\n",
       "      <th></th>\n",
       "      <th>budget</th>\n",
       "      <th>genres</th>\n",
       "      <th>id</th>\n",
       "      <th>original_language</th>\n",
       "      <th>popularity</th>\n",
       "      <th>production_companies</th>\n",
       "      <th>production_countries</th>\n",
       "      <th>release_date</th>\n",
       "      <th>revenue</th>\n",
       "      <th>runtime</th>\n",
       "      <th>status</th>\n",
       "      <th>vote_average</th>\n",
       "      <th>vote_count</th>\n",
       "      <th>cast</th>\n",
       "      <th>crew</th>\n",
       "    </tr>\n",
       "  </thead>\n",
       "  <tbody>\n",
       "    <tr>\n",
       "      <th>0</th>\n",
       "      <td>237000000</td>\n",
       "      <td>[{\"id\": 28, \"name\": \"Action\"}, {\"id\": 12, \"nam...</td>\n",
       "      <td>19995</td>\n",
       "      <td>en</td>\n",
       "      <td>150.437577</td>\n",
       "      <td>[{\"name\": \"Ingenious Film Partners\", \"id\": 289...</td>\n",
       "      <td>[{\"iso_3166_1\": \"US\", \"name\": \"United States o...</td>\n",
       "      <td>2009-12-10</td>\n",
       "      <td>2787965087</td>\n",
       "      <td>162.0</td>\n",
       "      <td>Released</td>\n",
       "      <td>7.2</td>\n",
       "      <td>11800</td>\n",
       "      <td>[{\"cast_id\": 242, \"character\": \"Jake Sully\", \"...</td>\n",
       "      <td>[{\"credit_id\": \"52fe48009251416c750aca23\", \"de...</td>\n",
       "    </tr>\n",
       "    <tr>\n",
       "      <th>1</th>\n",
       "      <td>300000000</td>\n",
       "      <td>[{\"id\": 12, \"name\": \"Adventure\"}, {\"id\": 14, \"...</td>\n",
       "      <td>285</td>\n",
       "      <td>en</td>\n",
       "      <td>139.082615</td>\n",
       "      <td>[{\"name\": \"Walt Disney Pictures\", \"id\": 2}, {\"...</td>\n",
       "      <td>[{\"iso_3166_1\": \"US\", \"name\": \"United States o...</td>\n",
       "      <td>2007-05-19</td>\n",
       "      <td>961000000</td>\n",
       "      <td>169.0</td>\n",
       "      <td>Released</td>\n",
       "      <td>6.9</td>\n",
       "      <td>4500</td>\n",
       "      <td>[{\"cast_id\": 4, \"character\": \"Captain Jack Spa...</td>\n",
       "      <td>[{\"credit_id\": \"52fe4232c3a36847f800b579\", \"de...</td>\n",
       "    </tr>\n",
       "  </tbody>\n",
       "</table>\n",
       "</div>"
      ],
      "text/plain": [
       "      budget                                             genres     id  \\\n",
       "0  237000000  [{\"id\": 28, \"name\": \"Action\"}, {\"id\": 12, \"nam...  19995   \n",
       "1  300000000  [{\"id\": 12, \"name\": \"Adventure\"}, {\"id\": 14, \"...    285   \n",
       "\n",
       "  original_language  popularity  \\\n",
       "0                en  150.437577   \n",
       "1                en  139.082615   \n",
       "\n",
       "                                production_companies  \\\n",
       "0  [{\"name\": \"Ingenious Film Partners\", \"id\": 289...   \n",
       "1  [{\"name\": \"Walt Disney Pictures\", \"id\": 2}, {\"...   \n",
       "\n",
       "                                production_countries release_date     revenue  \\\n",
       "0  [{\"iso_3166_1\": \"US\", \"name\": \"United States o...   2009-12-10  2787965087   \n",
       "1  [{\"iso_3166_1\": \"US\", \"name\": \"United States o...   2007-05-19   961000000   \n",
       "\n",
       "   runtime    status  vote_average  vote_count  \\\n",
       "0    162.0  Released           7.2       11800   \n",
       "1    169.0  Released           6.9        4500   \n",
       "\n",
       "                                                cast  \\\n",
       "0  [{\"cast_id\": 242, \"character\": \"Jake Sully\", \"...   \n",
       "1  [{\"cast_id\": 4, \"character\": \"Captain Jack Spa...   \n",
       "\n",
       "                                                crew  \n",
       "0  [{\"credit_id\": \"52fe48009251416c750aca23\", \"de...  \n",
       "1  [{\"credit_id\": \"52fe4232c3a36847f800b579\", \"de...  "
      ]
     },
     "execution_count": 89,
     "metadata": {},
     "output_type": "execute_result"
    }
   ],
   "source": [
    "# Source : https://pandas.pydata.org/pandas-docs/dev/user_guide/merging.html\n",
    "data = pd.merge(movies, credits, on = \"id\")\n",
    "data.head(2)"
   ]
  },
  {
   "cell_type": "code",
   "execution_count": 90,
   "id": "15424f84",
   "metadata": {
    "scrolled": true
   },
   "outputs": [
    {
     "data": {
      "text/plain": [
       "(4803, 15)"
      ]
     },
     "execution_count": 90,
     "metadata": {},
     "output_type": "execute_result"
    }
   ],
   "source": [
    "data.shape"
   ]
  },
  {
   "cell_type": "markdown",
   "id": "453f5bfd",
   "metadata": {},
   "source": [
    "### Exploring the \"status\" column\n",
    "All that we need to do now is to remove any duplicate rows or any rows that contain null values, but before that, there is one columns in particular that got my interest, which is the status feature, let's see what it is about:"
   ]
  },
  {
   "cell_type": "code",
   "execution_count": 91,
   "id": "99a4447b",
   "metadata": {
    "scrolled": true
   },
   "outputs": [
    {
     "data": {
      "text/plain": [
       "array(['Released', 'Post Production', 'Rumored'], dtype=object)"
      ]
     },
     "execution_count": 91,
     "metadata": {},
     "output_type": "execute_result"
    }
   ],
   "source": [
    "# Getting the values of the status columns\n",
    "data.status.unique()"
   ]
  },
  {
   "cell_type": "code",
   "execution_count": 92,
   "id": "bdce06dc",
   "metadata": {
    "scrolled": true
   },
   "outputs": [
    {
     "data": {
      "text/html": [
       "<div>\n",
       "<style scoped>\n",
       "    .dataframe tbody tr th:only-of-type {\n",
       "        vertical-align: middle;\n",
       "    }\n",
       "\n",
       "    .dataframe tbody tr th {\n",
       "        vertical-align: top;\n",
       "    }\n",
       "\n",
       "    .dataframe thead th {\n",
       "        text-align: right;\n",
       "    }\n",
       "</style>\n",
       "<table border=\"1\" class=\"dataframe\">\n",
       "  <thead>\n",
       "    <tr style=\"text-align: right;\">\n",
       "      <th></th>\n",
       "      <th>Released</th>\n",
       "      <th>Rumored</th>\n",
       "      <th>Post Production</th>\n",
       "    </tr>\n",
       "  </thead>\n",
       "  <tbody>\n",
       "    <tr>\n",
       "      <th>status</th>\n",
       "      <td>4795</td>\n",
       "      <td>5</td>\n",
       "      <td>3</td>\n",
       "    </tr>\n",
       "  </tbody>\n",
       "</table>\n",
       "</div>"
      ],
      "text/plain": [
       "        Released  Rumored  Post Production\n",
       "status      4795        5                3"
      ]
     },
     "execution_count": 92,
     "metadata": {},
     "output_type": "execute_result"
    }
   ],
   "source": [
    "# Getting the value counts of the status columns\n",
    "pd.DataFrame(data.status.value_counts()).transpose()"
   ]
  },
  {
   "cell_type": "markdown",
   "id": "d81a0e03",
   "metadata": {},
   "source": [
    "Seems like only 8 movies from this data set didn't get released, in this case, we can keep the released movies and get rid of the rest, then drop the status column"
   ]
  },
  {
   "cell_type": "code",
   "execution_count": 93,
   "id": "a68403e3",
   "metadata": {
    "scrolled": true
   },
   "outputs": [
    {
     "data": {
      "text/html": [
       "<div>\n",
       "<style scoped>\n",
       "    .dataframe tbody tr th:only-of-type {\n",
       "        vertical-align: middle;\n",
       "    }\n",
       "\n",
       "    .dataframe tbody tr th {\n",
       "        vertical-align: top;\n",
       "    }\n",
       "\n",
       "    .dataframe thead th {\n",
       "        text-align: right;\n",
       "    }\n",
       "</style>\n",
       "<table border=\"1\" class=\"dataframe\">\n",
       "  <thead>\n",
       "    <tr style=\"text-align: right;\">\n",
       "      <th></th>\n",
       "      <th>budget</th>\n",
       "      <th>genres</th>\n",
       "      <th>id</th>\n",
       "      <th>original_language</th>\n",
       "      <th>popularity</th>\n",
       "      <th>production_companies</th>\n",
       "      <th>production_countries</th>\n",
       "      <th>release_date</th>\n",
       "      <th>revenue</th>\n",
       "      <th>runtime</th>\n",
       "      <th>vote_average</th>\n",
       "      <th>vote_count</th>\n",
       "      <th>cast</th>\n",
       "      <th>crew</th>\n",
       "    </tr>\n",
       "  </thead>\n",
       "  <tbody>\n",
       "    <tr>\n",
       "      <th>0</th>\n",
       "      <td>237000000</td>\n",
       "      <td>[{\"id\": 28, \"name\": \"Action\"}, {\"id\": 12, \"nam...</td>\n",
       "      <td>19995</td>\n",
       "      <td>en</td>\n",
       "      <td>150.437577</td>\n",
       "      <td>[{\"name\": \"Ingenious Film Partners\", \"id\": 289...</td>\n",
       "      <td>[{\"iso_3166_1\": \"US\", \"name\": \"United States o...</td>\n",
       "      <td>2009-12-10</td>\n",
       "      <td>2787965087</td>\n",
       "      <td>162.0</td>\n",
       "      <td>7.2</td>\n",
       "      <td>11800</td>\n",
       "      <td>[{\"cast_id\": 242, \"character\": \"Jake Sully\", \"...</td>\n",
       "      <td>[{\"credit_id\": \"52fe48009251416c750aca23\", \"de...</td>\n",
       "    </tr>\n",
       "    <tr>\n",
       "      <th>1</th>\n",
       "      <td>300000000</td>\n",
       "      <td>[{\"id\": 12, \"name\": \"Adventure\"}, {\"id\": 14, \"...</td>\n",
       "      <td>285</td>\n",
       "      <td>en</td>\n",
       "      <td>139.082615</td>\n",
       "      <td>[{\"name\": \"Walt Disney Pictures\", \"id\": 2}, {\"...</td>\n",
       "      <td>[{\"iso_3166_1\": \"US\", \"name\": \"United States o...</td>\n",
       "      <td>2007-05-19</td>\n",
       "      <td>961000000</td>\n",
       "      <td>169.0</td>\n",
       "      <td>6.9</td>\n",
       "      <td>4500</td>\n",
       "      <td>[{\"cast_id\": 4, \"character\": \"Captain Jack Spa...</td>\n",
       "      <td>[{\"credit_id\": \"52fe4232c3a36847f800b579\", \"de...</td>\n",
       "    </tr>\n",
       "  </tbody>\n",
       "</table>\n",
       "</div>"
      ],
      "text/plain": [
       "      budget                                             genres     id  \\\n",
       "0  237000000  [{\"id\": 28, \"name\": \"Action\"}, {\"id\": 12, \"nam...  19995   \n",
       "1  300000000  [{\"id\": 12, \"name\": \"Adventure\"}, {\"id\": 14, \"...    285   \n",
       "\n",
       "  original_language  popularity  \\\n",
       "0                en  150.437577   \n",
       "1                en  139.082615   \n",
       "\n",
       "                                production_companies  \\\n",
       "0  [{\"name\": \"Ingenious Film Partners\", \"id\": 289...   \n",
       "1  [{\"name\": \"Walt Disney Pictures\", \"id\": 2}, {\"...   \n",
       "\n",
       "                                production_countries release_date     revenue  \\\n",
       "0  [{\"iso_3166_1\": \"US\", \"name\": \"United States o...   2009-12-10  2787965087   \n",
       "1  [{\"iso_3166_1\": \"US\", \"name\": \"United States o...   2007-05-19   961000000   \n",
       "\n",
       "   runtime  vote_average  vote_count  \\\n",
       "0    162.0           7.2       11800   \n",
       "1    169.0           6.9        4500   \n",
       "\n",
       "                                                cast  \\\n",
       "0  [{\"cast_id\": 242, \"character\": \"Jake Sully\", \"...   \n",
       "1  [{\"cast_id\": 4, \"character\": \"Captain Jack Spa...   \n",
       "\n",
       "                                                crew  \n",
       "0  [{\"credit_id\": \"52fe48009251416c750aca23\", \"de...  \n",
       "1  [{\"credit_id\": \"52fe4232c3a36847f800b579\", \"de...  "
      ]
     },
     "execution_count": 93,
     "metadata": {},
     "output_type": "execute_result"
    }
   ],
   "source": [
    "data = data.query(\"status == 'Released'\")\n",
    "data.drop(columns=\"status\", axis = 1, inplace = True)\n",
    "data.head(2)"
   ]
  },
  {
   "cell_type": "code",
   "execution_count": 94,
   "id": "ea0724fb",
   "metadata": {
    "scrolled": true
   },
   "outputs": [
    {
     "data": {
      "text/plain": [
       "(4795, 14)"
      ]
     },
     "execution_count": 94,
     "metadata": {},
     "output_type": "execute_result"
    }
   ],
   "source": [
    "data.shape"
   ]
  },
  {
   "cell_type": "markdown",
   "id": "1850b354",
   "metadata": {},
   "source": [
    "### Getting the first two genres of each movie \n",
    "This will help us better categorize each movie"
   ]
  },
  {
   "cell_type": "code",
   "execution_count": 95,
   "id": "cf658413",
   "metadata": {
    "scrolled": true
   },
   "outputs": [
    {
     "data": {
      "text/html": [
       "<div>\n",
       "<style scoped>\n",
       "    .dataframe tbody tr th:only-of-type {\n",
       "        vertical-align: middle;\n",
       "    }\n",
       "\n",
       "    .dataframe tbody tr th {\n",
       "        vertical-align: top;\n",
       "    }\n",
       "\n",
       "    .dataframe thead th {\n",
       "        text-align: right;\n",
       "    }\n",
       "</style>\n",
       "<table border=\"1\" class=\"dataframe\">\n",
       "  <thead>\n",
       "    <tr style=\"text-align: right;\">\n",
       "      <th></th>\n",
       "      <th>budget</th>\n",
       "      <th>genres</th>\n",
       "      <th>id</th>\n",
       "      <th>original_language</th>\n",
       "      <th>popularity</th>\n",
       "      <th>production_companies</th>\n",
       "      <th>production_countries</th>\n",
       "      <th>release_date</th>\n",
       "      <th>revenue</th>\n",
       "      <th>runtime</th>\n",
       "      <th>vote_average</th>\n",
       "      <th>vote_count</th>\n",
       "      <th>cast</th>\n",
       "      <th>crew</th>\n",
       "    </tr>\n",
       "  </thead>\n",
       "  <tbody>\n",
       "    <tr>\n",
       "      <th>0</th>\n",
       "      <td>237000000</td>\n",
       "      <td>Action|Adventure</td>\n",
       "      <td>19995</td>\n",
       "      <td>en</td>\n",
       "      <td>150.437577</td>\n",
       "      <td>[{\"name\": \"Ingenious Film Partners\", \"id\": 289...</td>\n",
       "      <td>[{\"iso_3166_1\": \"US\", \"name\": \"United States o...</td>\n",
       "      <td>2009-12-10</td>\n",
       "      <td>2787965087</td>\n",
       "      <td>162.0</td>\n",
       "      <td>7.2</td>\n",
       "      <td>11800</td>\n",
       "      <td>[{\"cast_id\": 242, \"character\": \"Jake Sully\", \"...</td>\n",
       "      <td>[{\"credit_id\": \"52fe48009251416c750aca23\", \"de...</td>\n",
       "    </tr>\n",
       "    <tr>\n",
       "      <th>1</th>\n",
       "      <td>300000000</td>\n",
       "      <td>Adventure|Fantasy</td>\n",
       "      <td>285</td>\n",
       "      <td>en</td>\n",
       "      <td>139.082615</td>\n",
       "      <td>[{\"name\": \"Walt Disney Pictures\", \"id\": 2}, {\"...</td>\n",
       "      <td>[{\"iso_3166_1\": \"US\", \"name\": \"United States o...</td>\n",
       "      <td>2007-05-19</td>\n",
       "      <td>961000000</td>\n",
       "      <td>169.0</td>\n",
       "      <td>6.9</td>\n",
       "      <td>4500</td>\n",
       "      <td>[{\"cast_id\": 4, \"character\": \"Captain Jack Spa...</td>\n",
       "      <td>[{\"credit_id\": \"52fe4232c3a36847f800b579\", \"de...</td>\n",
       "    </tr>\n",
       "  </tbody>\n",
       "</table>\n",
       "</div>"
      ],
      "text/plain": [
       "      budget             genres     id original_language  popularity  \\\n",
       "0  237000000   Action|Adventure  19995                en  150.437577   \n",
       "1  300000000  Adventure|Fantasy    285                en  139.082615   \n",
       "\n",
       "                                production_companies  \\\n",
       "0  [{\"name\": \"Ingenious Film Partners\", \"id\": 289...   \n",
       "1  [{\"name\": \"Walt Disney Pictures\", \"id\": 2}, {\"...   \n",
       "\n",
       "                                production_countries release_date     revenue  \\\n",
       "0  [{\"iso_3166_1\": \"US\", \"name\": \"United States o...   2009-12-10  2787965087   \n",
       "1  [{\"iso_3166_1\": \"US\", \"name\": \"United States o...   2007-05-19   961000000   \n",
       "\n",
       "   runtime  vote_average  vote_count  \\\n",
       "0    162.0           7.2       11800   \n",
       "1    169.0           6.9        4500   \n",
       "\n",
       "                                                cast  \\\n",
       "0  [{\"cast_id\": 242, \"character\": \"Jake Sully\", \"...   \n",
       "1  [{\"cast_id\": 4, \"character\": \"Captain Jack Spa...   \n",
       "\n",
       "                                                crew  \n",
       "0  [{\"credit_id\": \"52fe48009251416c750aca23\", \"de...  \n",
       "1  [{\"credit_id\": \"52fe4232c3a36847f800b579\", \"de...  "
      ]
     },
     "execution_count": 95,
     "metadata": {},
     "output_type": "execute_result"
    }
   ],
   "source": [
    "# Get 2 of the genres of each movie\n",
    "data.genres = Get_first_elements(data.genres, \"name\", 2)\n",
    "data.head(2)"
   ]
  },
  {
   "cell_type": "markdown",
   "id": "704abc74",
   "metadata": {},
   "source": [
    "After this, we are going to remove the pipe caracter(\"|\"), we will be doing this by splitting them and having each movie contain one of its genres in a seperate row"
   ]
  },
  {
   "cell_type": "code",
   "execution_count": 96,
   "id": "160dac30",
   "metadata": {
    "scrolled": true
   },
   "outputs": [],
   "source": [
    "temp_data = data[data.genres.str.contains(\"|\")]"
   ]
  },
  {
   "cell_type": "code",
   "execution_count": 97,
   "id": "4087087b",
   "metadata": {
    "scrolled": false
   },
   "outputs": [],
   "source": [
    "df1 = temp_data.copy()  # data on first genre of each movie\n",
    "df2 = temp_data.copy()  # data on second genre of each movie"
   ]
  },
  {
   "cell_type": "code",
   "execution_count": 98,
   "id": "d726fcdc",
   "metadata": {},
   "outputs": [],
   "source": [
    "# Splitting genres (1 genre for each row)\n",
    "df1[\"genres\"] = df1[\"genres\"].apply(lambda x: x.split(\"|\")[0]) \n",
    "df2[\"genres\"] = df2[\"genres\"].apply(lambda x: x.split(\"|\")[-1]) "
   ]
  },
  {
   "cell_type": "code",
   "execution_count": 99,
   "id": "156d9813",
   "metadata": {},
   "outputs": [],
   "source": [
    "# combine dataframes to add to the original dataframe\n",
    "new_rows = pd.concat([df1, df2])"
   ]
  },
  {
   "cell_type": "code",
   "execution_count": 100,
   "id": "7ad9dd0d",
   "metadata": {},
   "outputs": [
    {
     "data": {
      "text/plain": [
       "(9590, 14)"
      ]
     },
     "execution_count": 100,
     "metadata": {},
     "output_type": "execute_result"
    }
   ],
   "source": [
    "# Removing the original rows\n",
    "data = new_rows\n",
    "data.shape"
   ]
  },
  {
   "cell_type": "markdown",
   "id": "3939e932",
   "metadata": {},
   "source": [
    "### Getting the production company \n",
    "This will help us determine how can the production company leave an impact on the other variables"
   ]
  },
  {
   "cell_type": "code",
   "execution_count": 101,
   "id": "dd491594",
   "metadata": {},
   "outputs": [],
   "source": [
    "data.production_companies = Get_first_elements(data.production_companies, \"name\", 1)"
   ]
  },
  {
   "cell_type": "markdown",
   "id": "fb5476fe",
   "metadata": {},
   "source": [
    "### Getting the number of production countries of each movie\n",
    "the reasoning behind this is the same with production companies"
   ]
  },
  {
   "cell_type": "code",
   "execution_count": 102,
   "id": "7db809d8",
   "metadata": {},
   "outputs": [],
   "source": [
    "data.production_countries = Get_size(data.production_countries)"
   ]
  },
  {
   "cell_type": "markdown",
   "id": "c14fcf35",
   "metadata": {},
   "source": [
    "### Replacing the \"cast\" column elements with the cast size\n",
    "Later in this project we want to see how can the cast size affect other variables like the budget, revenue etc..."
   ]
  },
  {
   "cell_type": "code",
   "execution_count": 103,
   "id": "1bdaf7ee",
   "metadata": {},
   "outputs": [],
   "source": [
    "data.cast = Get_size(data.cast)"
   ]
  },
  {
   "cell_type": "markdown",
   "id": "584e2bab",
   "metadata": {},
   "source": [
    "### Replacing the \"crew\" column elements with the crew size\n",
    "Later in this project we want to see how can the crew size affect other variables like the budget, revenue etc..."
   ]
  },
  {
   "cell_type": "code",
   "execution_count": 104,
   "id": "42c0c352",
   "metadata": {},
   "outputs": [],
   "source": [
    "data.crew = Get_size(data.crew)"
   ]
  },
  {
   "cell_type": "markdown",
   "id": "f6e06871",
   "metadata": {},
   "source": [
    "### Converting the \"release_date\" type to datetime\n",
    "This will make it easier later on when navigating through dates and categorizing by time"
   ]
  },
  {
   "cell_type": "code",
   "execution_count": 105,
   "id": "1c8df35b",
   "metadata": {},
   "outputs": [],
   "source": [
    "data.release_date = data.release_date.astype(\"datetime64\")"
   ]
  },
  {
   "cell_type": "code",
   "execution_count": 106,
   "id": "73a36685",
   "metadata": {
    "scrolled": true
   },
   "outputs": [
    {
     "name": "stdout",
     "output_type": "stream",
     "text": [
      "<class 'pandas.core.frame.DataFrame'>\n",
      "Int64Index: 9590 entries, 0 to 4802\n",
      "Data columns (total 14 columns):\n",
      " #   Column                Non-Null Count  Dtype         \n",
      "---  ------                --------------  -----         \n",
      " 0   budget                9590 non-null   int64         \n",
      " 1   genres                9590 non-null   object        \n",
      " 2   id                    9590 non-null   int64         \n",
      " 3   original_language     9590 non-null   object        \n",
      " 4   popularity            9590 non-null   float64       \n",
      " 5   production_companies  9590 non-null   object        \n",
      " 6   production_countries  9590 non-null   int64         \n",
      " 7   release_date          9588 non-null   datetime64[ns]\n",
      " 8   revenue               9590 non-null   int64         \n",
      " 9   runtime               9586 non-null   float64       \n",
      " 10  vote_average          9590 non-null   float64       \n",
      " 11  vote_count            9590 non-null   int64         \n",
      " 12  cast                  9590 non-null   int64         \n",
      " 13  crew                  9590 non-null   int64         \n",
      "dtypes: datetime64[ns](1), float64(3), int64(7), object(3)\n",
      "memory usage: 1.1+ MB\n"
     ]
    }
   ],
   "source": [
    "# General info on data columns, dtypes, and counts\n",
    "data.info()"
   ]
  },
  {
   "cell_type": "code",
   "execution_count": 107,
   "id": "9775d6d5",
   "metadata": {},
   "outputs": [],
   "source": [
    "# Dropping NaN values\n",
    "data = data.dropna()"
   ]
  },
  {
   "cell_type": "code",
   "execution_count": 108,
   "id": "773dad9a",
   "metadata": {
    "scrolled": false
   },
   "outputs": [
    {
     "data": {
      "text/plain": [
       "922"
      ]
     },
     "execution_count": 108,
     "metadata": {},
     "output_type": "execute_result"
    }
   ],
   "source": [
    "# Checking for duplicate rows\n",
    "data.duplicated().sum()"
   ]
  },
  {
   "cell_type": "markdown",
   "id": "45995032",
   "metadata": {},
   "source": [
    "Earlier when we checked both datasets for duplicate columns, we didn't get any, but now we have 922, the reason for this is that some of the movies have only one genre listed (and we wanted to select 2)."
   ]
  },
  {
   "cell_type": "code",
   "execution_count": 109,
   "id": "3446dbf2",
   "metadata": {
    "scrolled": false
   },
   "outputs": [
    {
     "data": {
      "text/plain": [
       "0"
      ]
     },
     "execution_count": 109,
     "metadata": {},
     "output_type": "execute_result"
    }
   ],
   "source": [
    "# Dropping duplicate columns \n",
    "data = data.drop_duplicates()\n",
    "data.duplicated().sum()"
   ]
  },
  {
   "cell_type": "code",
   "execution_count": 110,
   "id": "6e4a6731",
   "metadata": {},
   "outputs": [
    {
     "name": "stdout",
     "output_type": "stream",
     "text": [
      "<class 'pandas.core.frame.DataFrame'>\n",
      "Int64Index: 8662 entries, 0 to 4800\n",
      "Data columns (total 14 columns):\n",
      " #   Column                Non-Null Count  Dtype         \n",
      "---  ------                --------------  -----         \n",
      " 0   budget                8662 non-null   int64         \n",
      " 1   genres                8662 non-null   object        \n",
      " 2   id                    8662 non-null   int64         \n",
      " 3   original_language     8662 non-null   object        \n",
      " 4   popularity            8662 non-null   float64       \n",
      " 5   production_companies  8662 non-null   object        \n",
      " 6   production_countries  8662 non-null   int64         \n",
      " 7   release_date          8662 non-null   datetime64[ns]\n",
      " 8   revenue               8662 non-null   int64         \n",
      " 9   runtime               8662 non-null   float64       \n",
      " 10  vote_average          8662 non-null   float64       \n",
      " 11  vote_count            8662 non-null   int64         \n",
      " 12  cast                  8662 non-null   int64         \n",
      " 13  crew                  8662 non-null   int64         \n",
      "dtypes: datetime64[ns](1), float64(3), int64(7), object(3)\n",
      "memory usage: 1015.1+ KB\n"
     ]
    }
   ],
   "source": [
    "data.info()"
   ]
  },
  {
   "cell_type": "markdown",
   "id": "859e6204",
   "metadata": {},
   "source": [
    "<a id=\"eda\"></a>\n",
    "## Exploratory Data Analysis"
   ]
  },
  {
   "cell_type": "code",
   "execution_count": 111,
   "id": "b78f9568",
   "metadata": {
    "scrolled": true
   },
   "outputs": [
    {
     "data": {
      "text/plain": [
       "budget                           int64\n",
       "genres                          object\n",
       "id                               int64\n",
       "original_language               object\n",
       "popularity                     float64\n",
       "production_companies            object\n",
       "production_countries             int64\n",
       "release_date            datetime64[ns]\n",
       "revenue                          int64\n",
       "runtime                        float64\n",
       "vote_average                   float64\n",
       "vote_count                       int64\n",
       "cast                             int64\n",
       "crew                             int64\n",
       "dtype: object"
      ]
     },
     "execution_count": 111,
     "metadata": {},
     "output_type": "execute_result"
    }
   ],
   "source": [
    "data.dtypes"
   ]
  },
  {
   "cell_type": "markdown",
   "id": "fcbb88ad",
   "metadata": {},
   "source": [
    "### Is making movies becoming a more lucrative business with each year ?\n",
    "In this sectiont we will learn more about the evolution of how money is spent ang how lucrative the cinema business is, also we will take a look on how the movies revenue is compared to the budget.<br>"
   ]
  },
  {
   "cell_type": "code",
   "execution_count": 112,
   "id": "ce51a988",
   "metadata": {
    "scrolled": true
   },
   "outputs": [
    {
     "name": "stderr",
     "output_type": "stream",
     "text": [
      "/tmp/ipykernel_559805/3433328330.py:1: FutureWarning: Treating datetime data as categorical rather than numeric in `.describe` is deprecated and will be removed in a future version of pandas. Specify `datetime_is_numeric=True` to silence this warning and adopt the future behavior now.\n",
      "  data.release_date.describe()\n"
     ]
    },
    {
     "data": {
      "text/plain": [
       "count                    8662\n",
       "unique                   3277\n",
       "top       2006-01-01 00:00:00\n",
       "freq                       15\n",
       "first     1916-09-04 00:00:00\n",
       "last      2017-02-03 00:00:00\n",
       "Name: release_date, dtype: object"
      ]
     },
     "execution_count": 112,
     "metadata": {},
     "output_type": "execute_result"
    }
   ],
   "source": [
    "data.release_date.describe()"
   ]
  },
  {
   "cell_type": "markdown",
   "id": "1b38e8bc",
   "metadata": {},
   "source": [
    "As we can see, the earliest release year in our data is 1916 while latest is 2017, what we can do is split our data per era and see what we can find"
   ]
  },
  {
   "cell_type": "code",
   "execution_count": 113,
   "id": "554ae27b",
   "metadata": {},
   "outputs": [
    {
     "data": {
      "text/html": [
       "<div>\n",
       "<style scoped>\n",
       "    .dataframe tbody tr th:only-of-type {\n",
       "        vertical-align: middle;\n",
       "    }\n",
       "\n",
       "    .dataframe tbody tr th {\n",
       "        vertical-align: top;\n",
       "    }\n",
       "\n",
       "    .dataframe thead th {\n",
       "        text-align: right;\n",
       "    }\n",
       "</style>\n",
       "<table border=\"1\" class=\"dataframe\">\n",
       "  <thead>\n",
       "    <tr style=\"text-align: right;\">\n",
       "      <th></th>\n",
       "      <th>budget</th>\n",
       "      <th>genres</th>\n",
       "      <th>id</th>\n",
       "      <th>original_language</th>\n",
       "      <th>popularity</th>\n",
       "      <th>production_companies</th>\n",
       "      <th>production_countries</th>\n",
       "      <th>release_date</th>\n",
       "      <th>revenue</th>\n",
       "      <th>runtime</th>\n",
       "      <th>vote_average</th>\n",
       "      <th>vote_count</th>\n",
       "      <th>cast</th>\n",
       "      <th>crew</th>\n",
       "      <th>era</th>\n",
       "    </tr>\n",
       "  </thead>\n",
       "  <tbody>\n",
       "    <tr>\n",
       "      <th>0</th>\n",
       "      <td>237000000</td>\n",
       "      <td>Action</td>\n",
       "      <td>19995</td>\n",
       "      <td>en</td>\n",
       "      <td>150.437577</td>\n",
       "      <td>Ingenious Film Partners</td>\n",
       "      <td>2</td>\n",
       "      <td>2009-12-10</td>\n",
       "      <td>2787965087</td>\n",
       "      <td>162.0</td>\n",
       "      <td>7.2</td>\n",
       "      <td>11800</td>\n",
       "      <td>83</td>\n",
       "      <td>153</td>\n",
       "      <td>2000s</td>\n",
       "    </tr>\n",
       "    <tr>\n",
       "      <th>1</th>\n",
       "      <td>300000000</td>\n",
       "      <td>Adventure</td>\n",
       "      <td>285</td>\n",
       "      <td>en</td>\n",
       "      <td>139.082615</td>\n",
       "      <td>Walt Disney Pictures</td>\n",
       "      <td>1</td>\n",
       "      <td>2007-05-19</td>\n",
       "      <td>961000000</td>\n",
       "      <td>169.0</td>\n",
       "      <td>6.9</td>\n",
       "      <td>4500</td>\n",
       "      <td>34</td>\n",
       "      <td>32</td>\n",
       "      <td>2000s</td>\n",
       "    </tr>\n",
       "  </tbody>\n",
       "</table>\n",
       "</div>"
      ],
      "text/plain": [
       "      budget     genres     id original_language  popularity  \\\n",
       "0  237000000     Action  19995                en  150.437577   \n",
       "1  300000000  Adventure    285                en  139.082615   \n",
       "\n",
       "      production_companies  production_countries release_date     revenue  \\\n",
       "0  Ingenious Film Partners                     2   2009-12-10  2787965087   \n",
       "1     Walt Disney Pictures                     1   2007-05-19   961000000   \n",
       "\n",
       "   runtime  vote_average  vote_count  cast  crew    era  \n",
       "0    162.0           7.2       11800    83   153  2000s  \n",
       "1    169.0           6.9        4500    34    32  2000s  "
      ]
     },
     "execution_count": 113,
     "metadata": {},
     "output_type": "execute_result"
    }
   ],
   "source": [
    "levels = [\"10s\", \"20s\", \"30s\", \n",
    "          \"40s\", \"50s\", \"60s\", \n",
    "          \"70s\", \"80s\", \"90s\", \n",
    "          \"2000s\", \"2010s\"]\n",
    "edges = [1910, 1920, 1930,\n",
    "         1940, 1950, 1960, \n",
    "         1970, 1980, 1990, \n",
    "         2000, 2010, 2020]\n",
    "\n",
    "data[\"era\"] = pd.cut(data.release_date.dt.year, edges, labels = levels)\n",
    "data.head(2)"
   ]
  },
  {
   "cell_type": "code",
   "execution_count": 114,
   "id": "e38dff5e",
   "metadata": {
    "scrolled": true
   },
   "outputs": [
    {
     "data": {
      "text/plain": [
       "Text(0, 0.5, 'ratio')"
      ]
     },
     "execution_count": 114,
     "metadata": {},
     "output_type": "execute_result"
    },
    {
     "data": {
      "image/png": "[encoded data removed]",
      "text/plain": [
       "<Figure size 720x720 with 3 Axes>"
      ]
     },
     "metadata": {
      "needs_background": "light"
     },
     "output_type": "display_data"
    }
   ],
   "source": [
    "plt.figure(figsize=(10, 10))\n",
    "locations = [i for i in range(len(levels))]\n",
    "labels = list(data.groupby(\"era\")[\"budget\"].mean().index)\n",
    "\n",
    "plt.subplot(221)\n",
    "budget_heights = data.groupby(\"era\")[\"budget\"].mean().values\n",
    "plt.bar(locations, budget_heights, tick_label=labels)\n",
    "plt.title(\"fig 1: budget evolution\")\n",
    "plt.xlabel(\"Era\")\n",
    "plt.ylabel(\"budget\")\n",
    "\n",
    "plt.subplot(222)\n",
    "rev_heights = data.groupby(\"era\")[\"revenue\"].mean().values\n",
    "plt.bar(locations, rev_heights, tick_label=labels)\n",
    "plt.title(\"fig 2: revenue evolution\")\n",
    "plt.xlabel(\"Era\")\n",
    "plt.ylabel(\"revenue\")\n",
    "\n",
    "plt.subplot(223)\n",
    "ratio_heights = rev_heights/budget_heights # Revenue to budget ratio\n",
    "# If the ratio is less than 1 that means that the money spent is less than the revenue\n",
    "# If the ratio is greater than 1 that means the movie is a commercial success\n",
    "plt.bar(locations, ratio_heights, tick_label=labels)\n",
    "plt.title(\"fig 3: revenue/budget evolution\")\n",
    "plt.xlabel(\"Era\")\n",
    "plt.ylabel(\"ratio\")"
   ]
  },
  {
   "cell_type": "markdown",
   "id": "e380851b",
   "metadata": {},
   "source": [
    "We can see from figure 1 and figure 2 that the movies' budget and revenue have increased along the years, this reason for that might be that movies became more accessible worldwide which increased it's visibility thus making producers invest more.<br>\n",
    "From figure 3, we can see that the revenue/budget ration is decreasing, i think it is pretty normal since production values increased dramatically from what it used to be but it is still lucrative with an average ratio of ~3 in the 2010s"
   ]
  },
  {
   "cell_type": "markdown",
   "id": "c362ba42",
   "metadata": {},
   "source": [
    "### what feature have the most impact on the popularity of the movie ? is it the cast and crew size, the production company or the genre of the movie ?"
   ]
  },
  {
   "cell_type": "markdown",
   "id": "ff5c8777",
   "metadata": {},
   "source": [
    "#### Cast and crew size impact on popularity"
   ]
  },
  {
   "cell_type": "code",
   "execution_count": 115,
   "id": "fe07ea64",
   "metadata": {
    "scrolled": true
   },
   "outputs": [
    {
     "data": {
      "text/plain": [
       "Text(0, 0.5, 'popularity')"
      ]
     },
     "execution_count": 115,
     "metadata": {},
     "output_type": "execute_result"
    },
    {
     "data": {
      "image/png": "[encoded data removed]",
      "text/plain": [
       "<Figure size 720x720 with 2 Axes>"
      ]
     },
     "metadata": {
      "needs_background": "light"
     },
     "output_type": "display_data"
    }
   ],
   "source": [
    "plt.figure(figsize=(10, 10))\n",
    "\n",
    "plt.subplot(221)\n",
    "plt.scatter(data.crew, data.popularity)\n",
    "plt.title(\"fig 4: crew size impact on popularity\")\n",
    "plt.xlabel(\"crew size\")\n",
    "plt.ylabel(\"popularity\")\n",
    "\n",
    "plt.subplot(222)\n",
    "plt.scatter(data.cast, data.popularity)\n",
    "plt.title(\"fig 5: cast size impact on popularity\")\n",
    "plt.xlabel(\"cast size\")\n",
    "plt.ylabel(\"popularity\")"
   ]
  },
  {
   "cell_type": "markdown",
   "id": "d3c40b51",
   "metadata": {},
   "source": [
    "From the two plots above, there seems to be some outliers in the popularity column, what we can do for know, is ignore any entries that have a popularity of more than 300"
   ]
  },
  {
   "cell_type": "code",
   "execution_count": 116,
   "id": "76131e63",
   "metadata": {
    "scrolled": true
   },
   "outputs": [
    {
     "data": {
      "text/plain": [
       "Text(0, 0.5, 'popularity')"
      ]
     },
     "execution_count": 116,
     "metadata": {},
     "output_type": "execute_result"
    },
    {
     "data": {
      "image/png": "[encoded data removed]",
      "text/plain": [
       "<Figure size 720x720 with 2 Axes>"
      ]
     },
     "metadata": {
      "needs_background": "light"
     },
     "output_type": "display_data"
    }
   ],
   "source": [
    "# creating a temporary data with no outliers\n",
    "temp_data = data.query(\"popularity < 300\")\n",
    "\n",
    "plt.figure(figsize=(10, 10))\n",
    "\n",
    "plt.subplot(221)\n",
    "plt.scatter(temp_data.crew, temp_data.popularity)\n",
    "plt.title(\"fig 4: crew size impact on popularity\")\n",
    "plt.xlabel(\"crew size\")\n",
    "plt.ylabel(\"popularity\")\n",
    "\n",
    "plt.subplot(222)\n",
    "plt.scatter(temp_data.cast, temp_data.popularity)\n",
    "plt.title(\"fig 5: cast size impact on popularity\")\n",
    "plt.xlabel(\"cast size\")\n",
    "plt.ylabel(\"popularity\")"
   ]
  },
  {
   "cell_type": "markdown",
   "id": "ce971043",
   "metadata": {},
   "source": [
    "What we can conclude from this, is that for most movies with small crews and casts, does not have higher popularity (appart from some movies), other than that, we can't say anything conclussive"
   ]
  },
  {
   "cell_type": "markdown",
   "id": "5d7f585a",
   "metadata": {},
   "source": [
    "#### Production companies' impact on popularity"
   ]
  },
  {
   "cell_type": "code",
   "execution_count": 117,
   "id": "e2c44c3a",
   "metadata": {
    "scrolled": false
   },
   "outputs": [
    {
     "name": "stdout",
     "output_type": "stream",
     "text": [
      "number of production companies present in our data\n"
     ]
    },
    {
     "data": {
      "text/plain": [
       "1311"
      ]
     },
     "execution_count": 117,
     "metadata": {},
     "output_type": "execute_result"
    }
   ],
   "source": [
    "print(\"number of production companies present in our data\")\n",
    "len(data.production_companies.unique())"
   ]
  },
  {
   "cell_type": "markdown",
   "id": "491c454c",
   "metadata": {},
   "source": [
    "Since we have more than 1000 production companies, it doesn't make sense to study them all as it will make reading graphs and identifying them nearly impossible, what we can do is select only the ones with the most movie counts"
   ]
  },
  {
   "cell_type": "code",
   "execution_count": 118,
   "id": "154d8624",
   "metadata": {},
   "outputs": [
    {
     "name": "stdout",
     "output_type": "stream",
     "text": [
      "Top 20 production companies in terms of movie counts\n"
     ]
    },
    {
     "data": {
      "text/plain": [
       "                                          537\n",
       "Paramount Pictures                        511\n",
       "Universal Pictures                        480\n",
       "Columbia Pictures                         370\n",
       "Twentieth Century Fox Film Corporation    328\n",
       "New Line Cinema                           278\n",
       "Walt Disney Pictures                      218\n",
       "Miramax Films                             161\n",
       "Village Roadshow Pictures                 132\n",
       "United Artists                            125\n",
       "Columbia Pictures Corporation             121\n",
       "Warner Bros.                              121\n",
       "DreamWorks SKG                            119\n",
       "Fox Searchlight Pictures                  114\n",
       "Metro-Goldwyn-Mayer (MGM)                  85\n",
       "Summit Entertainment                       80\n",
       "TriStar Pictures                           70\n",
       "Touchstone Pictures                        70\n",
       "Regency Enterprises                        64\n",
       "The Weinstein Company                      59\n",
       "Name: production_companies, dtype: int64"
      ]
     },
     "execution_count": 118,
     "metadata": {},
     "output_type": "execute_result"
    }
   ],
   "source": [
    "print(\"Top 20 production companies in terms of movie counts\")\n",
    "prod_comp_data = data.production_companies.value_counts()[:20]\n",
    "prod_comp_data"
   ]
  },
  {
   "cell_type": "code",
   "execution_count": 153,
   "id": "6a7d69c0",
   "metadata": {},
   "outputs": [
    {
     "data": {
      "text/plain": [
       "Text(0, 0.5, 'Production companies')"
      ]
     },
     "execution_count": 153,
     "metadata": {},
     "output_type": "execute_result"
    },
    {
     "data": {
      "image/png": "[encoded data removed]",
      "text/plain": [
       "<Figure size 1440x1440 with 1 Axes>"
      ]
     },
     "metadata": {
      "needs_background": "light"
     },
     "output_type": "display_data"
    }
   ],
   "source": [
    "locations = [i for i in range(len(prod_comp_data))]\n",
    "labels = prod_comp_data.index\n",
    "\n",
    "plt.figure(figsize=(20, 20))\n",
    "\n",
    "plt.subplot(221)\n",
    "heights = data[data[\"production_companies\"].apply(lambda x : x in prod_comp_data.index)]\n",
    "heights = heights.groupby(\"production_companies\")[\"popularity\"].mean()[1:]\n",
    "\n",
    "plt.barh(heights.index,heights.values)\n",
    "plt.title(\"fig 6: production companies' impact on popularity\")\n",
    "plt.xlabel(\"popuplarity average\")\n",
    "plt.ylabel(\"Production companies\")"
   ]
  },
  {
   "cell_type": "markdown",
   "id": "f5566f71",
   "metadata": {},
   "source": [
    "What we can get from this is that the production campany might not actually have an impact on the popularity of the movie as seen in figure 6, this is more apparent when we take for example Disney, one of the most popular if not the most popular production company, yet out of the 20 companies,it has a low average compared to others"
   ]
  },
  {
   "cell_type": "markdown",
   "id": "58fb0046",
   "metadata": {},
   "source": [
    "#### Which movie genre is more popular"
   ]
  },
  {
   "cell_type": "code",
   "execution_count": 120,
   "id": "d2ed2c78",
   "metadata": {
    "scrolled": true
   },
   "outputs": [
    {
     "data": {
      "text/plain": [
       "['Action',\n",
       " 'Adventure',\n",
       " 'Fantasy',\n",
       " 'Animation',\n",
       " 'Science Fiction',\n",
       " 'Drama',\n",
       " 'Thriller',\n",
       " 'Family',\n",
       " 'Comedy',\n",
       " 'History',\n",
       " 'War',\n",
       " 'Western',\n",
       " 'Romance',\n",
       " 'Crime',\n",
       " 'Mystery',\n",
       " 'Horror',\n",
       " 'Documentary',\n",
       " 'Music',\n",
       " 'TV Movie',\n",
       " '',\n",
       " 'Foreign']"
      ]
     },
     "execution_count": 120,
     "metadata": {},
     "output_type": "execute_result"
    }
   ],
   "source": [
    "genres = list(data.genres.unique())\n",
    "genres"
   ]
  },
  {
   "cell_type": "code",
   "execution_count": 160,
   "id": "47dbe7f9",
   "metadata": {
    "scrolled": false
   },
   "outputs": [
    {
     "data": {
      "text/plain": [
       "Text(0, 0.5, 'genres')"
      ]
     },
     "execution_count": 160,
     "metadata": {},
     "output_type": "execute_result"
    },
    {
     "data": {
      "image/png": "[encoded data removed]",
      "text/plain": [
       "<Figure size 1440x1440 with 1 Axes>"
      ]
     },
     "metadata": {
      "needs_background": "light"
     },
     "output_type": "display_data"
    }
   ],
   "source": [
    "locations = [i for i in range(len(genres))]\n",
    "\n",
    "plt.figure(figsize=(20, 20))\n",
    "\n",
    "plt.subplot(221)\n",
    "heights = data.groupby(\"genres\")[\"popularity\"].mean()[1:].sort_values()\n",
    "\n",
    "plt.barh(heights.index,heights.values)\n",
    "plt.title(\"fig 7: genres impact on popularity\")\n",
    "plt.xlabel(\"popuplarity average\")\n",
    "plt.ylabel(\"genres\")"
   ]
  },
  {
   "cell_type": "markdown",
   "id": "124bc600",
   "metadata": {},
   "source": [
    "We can see from figure 7 that:\n",
    "* for the top 5 most popular genres that they are what we could call \"crowd pleasers\", they are genres that appeal the most to the masses, they are compatibles with almost all ages, have high production values, which could explain their popularity.\n",
    "* for the 5 least popular genres, we could say the opposite of what we said before, for example, in the case of foreign movies, the audience of that genre is limited to the ones who can understang the language spoken in that movie, unlike english which is spoken globally."
   ]
  },
  {
   "cell_type": "markdown",
   "id": "5a73dc98",
   "metadata": {},
   "source": [
    "### how does the rating affect the popularity of a movie and it's commercial success"
   ]
  },
  {
   "cell_type": "markdown",
   "id": "dd477158",
   "metadata": {},
   "source": [
    "To find if a movies is a commercial success or not, we can add a new column to our dataframe which contains the revenus/budget ratio for each movie.<br>\n",
    "If the ratio is greater than 1 (revenue > budget), that means that the movie is a commercial success."
   ]
  },
  {
   "cell_type": "code",
   "execution_count": 122,
   "id": "8f12a5c7",
   "metadata": {
    "scrolled": true
   },
   "outputs": [
    {
     "data": {
      "text/html": [
       "<div>\n",
       "<style scoped>\n",
       "    .dataframe tbody tr th:only-of-type {\n",
       "        vertical-align: middle;\n",
       "    }\n",
       "\n",
       "    .dataframe tbody tr th {\n",
       "        vertical-align: top;\n",
       "    }\n",
       "\n",
       "    .dataframe thead th {\n",
       "        text-align: right;\n",
       "    }\n",
       "</style>\n",
       "<table border=\"1\" class=\"dataframe\">\n",
       "  <thead>\n",
       "    <tr style=\"text-align: right;\">\n",
       "      <th></th>\n",
       "      <th>budget</th>\n",
       "      <th>genres</th>\n",
       "      <th>id</th>\n",
       "      <th>original_language</th>\n",
       "      <th>popularity</th>\n",
       "      <th>production_companies</th>\n",
       "      <th>production_countries</th>\n",
       "      <th>release_date</th>\n",
       "      <th>revenue</th>\n",
       "      <th>runtime</th>\n",
       "      <th>vote_average</th>\n",
       "      <th>vote_count</th>\n",
       "      <th>cast</th>\n",
       "      <th>crew</th>\n",
       "      <th>era</th>\n",
       "      <th>ratio</th>\n",
       "    </tr>\n",
       "  </thead>\n",
       "  <tbody>\n",
       "    <tr>\n",
       "      <th>0</th>\n",
       "      <td>237000000</td>\n",
       "      <td>Action</td>\n",
       "      <td>19995</td>\n",
       "      <td>en</td>\n",
       "      <td>150.437577</td>\n",
       "      <td>Ingenious Film Partners</td>\n",
       "      <td>2</td>\n",
       "      <td>2009-12-10</td>\n",
       "      <td>2787965087</td>\n",
       "      <td>162.0</td>\n",
       "      <td>7.2</td>\n",
       "      <td>11800</td>\n",
       "      <td>83</td>\n",
       "      <td>153</td>\n",
       "      <td>2000s</td>\n",
       "      <td>11.763566</td>\n",
       "    </tr>\n",
       "    <tr>\n",
       "      <th>1</th>\n",
       "      <td>300000000</td>\n",
       "      <td>Adventure</td>\n",
       "      <td>285</td>\n",
       "      <td>en</td>\n",
       "      <td>139.082615</td>\n",
       "      <td>Walt Disney Pictures</td>\n",
       "      <td>1</td>\n",
       "      <td>2007-05-19</td>\n",
       "      <td>961000000</td>\n",
       "      <td>169.0</td>\n",
       "      <td>6.9</td>\n",
       "      <td>4500</td>\n",
       "      <td>34</td>\n",
       "      <td>32</td>\n",
       "      <td>2000s</td>\n",
       "      <td>3.203333</td>\n",
       "    </tr>\n",
       "  </tbody>\n",
       "</table>\n",
       "</div>"
      ],
      "text/plain": [
       "      budget     genres     id original_language  popularity  \\\n",
       "0  237000000     Action  19995                en  150.437577   \n",
       "1  300000000  Adventure    285                en  139.082615   \n",
       "\n",
       "      production_companies  production_countries release_date     revenue  \\\n",
       "0  Ingenious Film Partners                     2   2009-12-10  2787965087   \n",
       "1     Walt Disney Pictures                     1   2007-05-19   961000000   \n",
       "\n",
       "   runtime  vote_average  vote_count  cast  crew    era      ratio  \n",
       "0    162.0           7.2       11800    83   153  2000s  11.763566  \n",
       "1    169.0           6.9        4500    34    32  2000s   3.203333  "
      ]
     },
     "execution_count": 122,
     "metadata": {},
     "output_type": "execute_result"
    }
   ],
   "source": [
    "data[\"ratio\"] = (data.revenue+1) / (data.budget+1)\n",
    "# I added +1 to avoid cases where there is a division by 0\n",
    "# Most of the values 10⁷ or higher so adding one should be negligeable\n",
    "data.head(2)"
   ]
  },
  {
   "cell_type": "code",
   "execution_count": 133,
   "id": "8b64ad25",
   "metadata": {
    "scrolled": true
   },
   "outputs": [
    {
     "data": {
      "text/plain": [
       "Text(0, 0.5, 'ratio')"
      ]
     },
     "execution_count": 133,
     "metadata": {},
     "output_type": "execute_result"
    },
    {
     "data": {
      "image/png": "[encoded data removed]",
      "text/plain": [
       "<Figure size 720x720 with 2 Axes>"
      ]
     },
     "metadata": {
      "needs_background": "light"
     },
     "output_type": "display_data"
    }
   ],
   "source": [
    "plt.figure(figsize=(10, 10))\n",
    "\n",
    "plt.subplot(221)\n",
    "plt.scatter(data.vote_average, data.ratio)\n",
    "plt.title(\"fig 8: Rating impact on success\")\n",
    "plt.xlabel(\"rating\")\n",
    "plt.ylabel(\"ratio\")\n",
    "\n",
    "plt.subplot(222)\n",
    "plt.scatter(data.popularity, data.ratio)\n",
    "plt.title(\"fig 9: popularity impact on success\")\n",
    "plt.xlabel(\"popularity\")\n",
    "plt.ylabel(\"ratio\")"
   ]
  },
  {
   "cell_type": "markdown",
   "id": "fc473142",
   "metadata": {},
   "source": [
    "Again, it appears that we have some outliers in the ratio columns with values of more than 1000 for example which is highly unlikely in reality, this can be avoided by ignoring any ratio that is bigger than 100 for example "
   ]
  },
  {
   "cell_type": "code",
   "execution_count": 124,
   "id": "41a0d7a6",
   "metadata": {
    "scrolled": true
   },
   "outputs": [
    {
     "data": {
      "text/plain": [
       "Text(0, 0.5, 'ratio')"
      ]
     },
     "execution_count": 124,
     "metadata": {},
     "output_type": "execute_result"
    },
    {
     "data": {
      "image/png": "[encoded data removed]",
      "text/plain": [
       "<Figure size 720x720 with 2 Axes>"
      ]
     },
     "metadata": {
      "needs_background": "light"
     },
     "output_type": "display_data"
    }
   ],
   "source": [
    "# creating a temporary data with no outliers\n",
    "temp_data = data.query(\"ratio < 100\")\n",
    "\n",
    "plt.figure(figsize=(10, 10))\n",
    "\n",
    "plt.subplot(221)\n",
    "plt.scatter(temp_data.vote_average, temp_data.ratio)\n",
    "plt.title(\"fig 8: rating impact\")\n",
    "plt.xlabel(\"rating\")\n",
    "plt.ylabel(\"ratio\")\n",
    "\n",
    "plt.subplot(222)\n",
    "plt.scatter(temp_data.popularity, temp_data.ratio)\n",
    "plt.title(\"fig 9: popularity impact\")\n",
    "plt.xlabel(\"popularity\")\n",
    "plt.ylabel(\"ratio\")"
   ]
  },
  {
   "cell_type": "markdown",
   "id": "2bbac9c1",
   "metadata": {},
   "source": [
    "For figure 8: we can see that the rating doesn't really impact the success of the movie if the rating is greater than 7 (or at least we cannot conclude that), but for ratings of less than 7, we can see a positive relation.\n",
    "For Figure 9: We see that the popularity of the movie is not a good indicator of it's success"
   ]
  },
  {
   "cell_type": "markdown",
   "id": "97251e86",
   "metadata": {},
   "source": [
    "### Which season releases the most movies ?"
   ]
  },
  {
   "cell_type": "markdown",
   "id": "24530fff",
   "metadata": {},
   "source": [
    "To know which season produces the most movies, we can split the data to four categories(quarters), each categorie representing the quarter in which the movie was released in"
   ]
  },
  {
   "cell_type": "code",
   "execution_count": 125,
   "id": "a20d7499",
   "metadata": {
    "scrolled": true
   },
   "outputs": [
    {
     "data": {
      "text/html": [
       "<div>\n",
       "<style scoped>\n",
       "    .dataframe tbody tr th:only-of-type {\n",
       "        vertical-align: middle;\n",
       "    }\n",
       "\n",
       "    .dataframe tbody tr th {\n",
       "        vertical-align: top;\n",
       "    }\n",
       "\n",
       "    .dataframe thead th {\n",
       "        text-align: right;\n",
       "    }\n",
       "</style>\n",
       "<table border=\"1\" class=\"dataframe\">\n",
       "  <thead>\n",
       "    <tr style=\"text-align: right;\">\n",
       "      <th></th>\n",
       "      <th>budget</th>\n",
       "      <th>genres</th>\n",
       "      <th>id</th>\n",
       "      <th>original_language</th>\n",
       "      <th>popularity</th>\n",
       "      <th>production_companies</th>\n",
       "      <th>production_countries</th>\n",
       "      <th>release_date</th>\n",
       "      <th>revenue</th>\n",
       "      <th>runtime</th>\n",
       "      <th>vote_average</th>\n",
       "      <th>vote_count</th>\n",
       "      <th>cast</th>\n",
       "      <th>crew</th>\n",
       "      <th>era</th>\n",
       "      <th>ratio</th>\n",
       "      <th>quarter</th>\n",
       "    </tr>\n",
       "  </thead>\n",
       "  <tbody>\n",
       "    <tr>\n",
       "      <th>0</th>\n",
       "      <td>237000000</td>\n",
       "      <td>Action</td>\n",
       "      <td>19995</td>\n",
       "      <td>en</td>\n",
       "      <td>150.437577</td>\n",
       "      <td>Ingenious Film Partners</td>\n",
       "      <td>2</td>\n",
       "      <td>2009-12-10</td>\n",
       "      <td>2787965087</td>\n",
       "      <td>162.0</td>\n",
       "      <td>7.2</td>\n",
       "      <td>11800</td>\n",
       "      <td>83</td>\n",
       "      <td>153</td>\n",
       "      <td>2000s</td>\n",
       "      <td>11.763566</td>\n",
       "      <td>Q4</td>\n",
       "    </tr>\n",
       "    <tr>\n",
       "      <th>1</th>\n",
       "      <td>300000000</td>\n",
       "      <td>Adventure</td>\n",
       "      <td>285</td>\n",
       "      <td>en</td>\n",
       "      <td>139.082615</td>\n",
       "      <td>Walt Disney Pictures</td>\n",
       "      <td>1</td>\n",
       "      <td>2007-05-19</td>\n",
       "      <td>961000000</td>\n",
       "      <td>169.0</td>\n",
       "      <td>6.9</td>\n",
       "      <td>4500</td>\n",
       "      <td>34</td>\n",
       "      <td>32</td>\n",
       "      <td>2000s</td>\n",
       "      <td>3.203333</td>\n",
       "      <td>Q2</td>\n",
       "    </tr>\n",
       "  </tbody>\n",
       "</table>\n",
       "</div>"
      ],
      "text/plain": [
       "      budget     genres     id original_language  popularity  \\\n",
       "0  237000000     Action  19995                en  150.437577   \n",
       "1  300000000  Adventure    285                en  139.082615   \n",
       "\n",
       "      production_companies  production_countries release_date     revenue  \\\n",
       "0  Ingenious Film Partners                     2   2009-12-10  2787965087   \n",
       "1     Walt Disney Pictures                     1   2007-05-19   961000000   \n",
       "\n",
       "   runtime  vote_average  vote_count  cast  crew    era      ratio quarter  \n",
       "0    162.0           7.2       11800    83   153  2000s  11.763566      Q4  \n",
       "1    169.0           6.9        4500    34    32  2000s   3.203333      Q2  "
      ]
     },
     "execution_count": 125,
     "metadata": {},
     "output_type": "execute_result"
    }
   ],
   "source": [
    "levels = [\"Q1\", \"Q2\", \"Q3\", \"Q4\"]\n",
    "edges = [0, 3, 6, 9, 12]\n",
    "\n",
    "data[\"quarter\"] = pd.cut(data.release_date.dt.month, edges, labels = levels)\n",
    "data.head(2)"
   ]
  },
  {
   "cell_type": "code",
   "execution_count": 126,
   "id": "4de922f1",
   "metadata": {},
   "outputs": [
    {
     "data": {
      "text/plain": [
       "Text(0, 0.5, 'amount')"
      ]
     },
     "execution_count": 126,
     "metadata": {},
     "output_type": "execute_result"
    },
    {
     "data": {
      "image/png": "[encoded data removed]",
      "text/plain": [
       "<Figure size 360x360 with 1 Axes>"
      ]
     },
     "metadata": {
      "needs_background": "light"
     },
     "output_type": "display_data"
    }
   ],
   "source": [
    "plt.figure(figsize=(5, 5))\n",
    "locations = [i for i in range(len(levels))]\n",
    "labels = data.quarter.value_counts().index\n",
    "\n",
    "heights = data.quarter.value_counts()\n",
    "plt.bar(locations, heights, tick_label=labels)\n",
    "plt.title(\"fig 10: Movies released for each quarter\")\n",
    "plt.xlabel(\"Quarter\")\n",
    "plt.ylabel(\"amount\")"
   ]
  },
  {
   "cell_type": "markdown",
   "id": "0716374b",
   "metadata": {},
   "source": [
    "The answer to the question of this section is clear and simple, the second half of the year is the one where most of the movies are released(i.e: summer and autumn), this can be linked to many things but unfortunately, we can't find the cause of this in our data, what we can do is make a theory, my theory is that more movies are released in that period (Q3 and Q4) because of summer breaks and holiday seasons, this theory is not backed by anything, so take it with a grain of salt. "
   ]
  },
  {
   "cell_type": "markdown",
   "id": "f3f62fa6",
   "metadata": {},
   "source": [
    "### Which genres has the most revenue/budget ratio ?"
   ]
  },
  {
   "cell_type": "code",
   "execution_count": 158,
   "id": "9e6e6ebe",
   "metadata": {
    "scrolled": true
   },
   "outputs": [
    {
     "data": {
      "text/plain": [
       "Text(0, 0.5, 'genres')"
      ]
     },
     "execution_count": 158,
     "metadata": {},
     "output_type": "execute_result"
    },
    {
     "data": {
      "image/png": "[encoded data removed]",
      "text/plain": [
       "<Figure size 1440x1440 with 3 Axes>"
      ]
     },
     "metadata": {
      "needs_background": "light"
     },
     "output_type": "display_data"
    }
   ],
   "source": [
    "locations = [i for i in range(len(genres))]\n",
    "\n",
    "plt.figure(figsize=(20, 20))\n",
    "temp_data = data.query(\"ratio < 100\") #Removing ratio outliers\n",
    "\n",
    "plt.subplot(221)\n",
    "heights = temp_data.groupby(\"genres\")[\"revenue\"].mean()[1:].sort_values()\n",
    "plt.barh(heights.index,heights.values)\n",
    "plt.title(\"fig 11: average budget for each genre\")\n",
    "plt.xlabel(\"budget\")\n",
    "plt.ylabel(\"genres\")\n",
    "\n",
    "plt.subplot(222)\n",
    "heights = temp_data.groupby(\"genres\")[\"budget\"].mean()[1:].sort_values()\n",
    "plt.barh(heights.index,heights.values)\n",
    "plt.title(\"fig 12: average revenue for each genre\")\n",
    "plt.xlabel(\"revenue\")\n",
    "plt.ylabel(\"genres\")\n",
    "\n",
    "plt.subplot(223)\n",
    "heights = temp_data.groupby(\"genres\")[\"ratio\"].mean()[1:].sort_values()\n",
    "plt.barh(heights.index,heights.values)\n",
    "plt.title(\"fig 13: average income ratio for each genre\")\n",
    "plt.xlabel(\"ratio\")\n",
    "plt.ylabel(\"genres\")"
   ]
  },
  {
   "cell_type": "markdown",
   "id": "4428d777",
   "metadata": {},
   "source": [
    "To make it easy to explain, let's make an observation for each figure:\n",
    "* figure 11: we can see from this figure that the genres with the lowest budgets are TV movies, foreign movies and documentaries, it is normal for foreign movies as they are(in general) smaller in scale when compared to thei hollywood counter-parts, as for documentaries and TV movies, their small budget could be expalined because of the smaller crew and cast needed to make them, the opposite can be said the the top 3 highest average budgets(animation, adventure, fantasy) as they require a lot of preparation and/or staff (most of the movies of these genres require a lot of special effects and might be shot in multiple countries)\n",
    "* figure 12: we can see from the top 5 genres with the highest revenue that they are genres that appeal to most of the people(who doesn't like to watch some action and/or adventure, the same could be said to family movies which are suitable for all ages -> wider audience).\n",
    "* figure 13: suprisingly, the genres with the top budgets and revenue aren't the ones cith the most revenue/budget ratio, this could be explained by the saturation of the movie market when speaking of those genres(multiple choices -> less people watching), but they are still considerably lucrative."
   ]
  },
  {
   "cell_type": "markdown",
   "id": "dd79ad73",
   "metadata": {},
   "source": [
    "<a id='conclusions'></a>\n",
    "## Conclusions\n",
    "In this dataset, I focused Mainly on n variables :\n",
    "* budget\n",
    "* revenue\n",
    "* release date\n",
    "* cast and crew\n",
    "* genres\n",
    "* popularity and rating<br>\n",
    "We've discovered in this project that some of them have some type realtion exist between them (for example release time and the amount of movies produced or the genres and the popularity) while other had a somewhat weak relation.<br> \n",
    "Although we have some interesting results, there is still a lot to discover in this data.\n",
    "### Limitations\n",
    "* After working on many variables in this data, there are more variables that i didn't work with that could also yield some interesting results.\n",
    "* Some of the data entries have questionable values like budgets or revenues equaling zero, this can hinder the results.\n",
    "* In the <a href=\"https://www.kaggle.com/datasets/tmdb/tmdb-movie-metadata\" >website of this dataset</a>, in the open questions area, there is a mention that states that some of the values of the budget and revenue variables might not all be in USD, i dismissed that question because all the values are in the same magnitude, but it is still plausible."
   ]
  }
 ],
 "metadata": {
  "kernelspec": {
   "display_name": "Python 3 (ipykernel)",
   "language": "python",
   "name": "python3"
  },
  "language_info": {
   "codemirror_mode": {
    "name": "ipython",
    "version": 3
   },
   "file_extension": ".py",
   "mimetype": "text/x-python",
   "name": "python",
   "nbconvert_exporter": "python",
   "pygments_lexer": "ipython3",
   "version": "3.10.4"
  }
 },
 "nbformat": 4,
 "nbformat_minor": 5
}
